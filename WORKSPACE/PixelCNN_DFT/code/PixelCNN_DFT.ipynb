{
 "cells": [
  {
   "cell_type": "markdown",
   "metadata": {},
   "source": [
    "Libraries"
   ]
  },
  {
   "cell_type": "code",
   "execution_count": 67,
   "metadata": {},
   "outputs": [],
   "source": [
    "## Standard libraries\n",
    "import os\n",
    "import math\n",
    "import numpy as np\n",
    "import time\n",
    "import matplotlib.pyplot as plt\n",
    "import numpy.fft as fft\n",
    "import cv2\n",
    "from PIL import Image\n",
    "\n",
    "## PyTorch\n",
    "import torch\n",
    "import torch.nn as nn\n",
    "import torch.nn.functional as F\n",
    "import torch.utils.data as data\n",
    "import torch.optim as optim\n",
    "from torch.utils.tensorboard import SummaryWriter\n",
    "from torch.utils.data import Dataset\n",
    "\n",
    "#3 Torchvision\n",
    "import torchvision\n",
    "from torchvision.datasets import MNIST\n",
    "from torchvision import transforms\n",
    "\n",
    "## Progress bar\n",
    "from tqdm.notebook import tqdm\n",
    "\n",
    "\n"
   ]
  },
  {
   "cell_type": "markdown",
   "metadata": {},
   "source": [
    "Constants"
   ]
  },
  {
   "cell_type": "code",
   "execution_count": 68,
   "metadata": {},
   "outputs": [
    {
     "name": "stdout",
     "output_type": "stream",
     "text": [
      "Using device cuda:0\n"
     ]
    }
   ],
   "source": [
    "# Training tag\n",
    "Train_tag = \"PixelCNN_DFT_train_epoch_196_245_lr_2em4\"\n",
    "# Whether or not start training from previous checkpoints\n",
    "Resume_from_checkpoint = True\n",
    "# Path to the checkpoint\n",
    "RESUME_PATH = \"../checkpoints/PixelCNN_DFT_train_epoch_196_245_lr_2em4/epoch_245.ckpt\"\n",
    "# Path to the folder where the datasets are stored\n",
    "DATASET_PATH = \"../data\"\n",
    "# Path to the folder where the checkpoints are saved\n",
    "CHECKPOINT_PATH = \"../checkpoints\"\n",
    "# Path to the folder where the training logs are saved\n",
    "LOG_PATH = \"../tensorboard_log\"\n",
    "# Fetching the device\n",
    "device = torch.device(\"cpu\") if not torch.cuda.is_available() else torch.device(\"cuda:0\")\n",
    "print(\"Using device\", device)\n",
    "# Learning rate\n",
    "Learning_rate = 2e-4\n",
    "# Max epoch\n",
    "Max_epoch = 50"
   ]
  },
  {
   "cell_type": "markdown",
   "metadata": {},
   "source": [
    "Define DFT transform"
   ]
  },
  {
   "cell_type": "code",
   "execution_count": 69,
   "metadata": {},
   "outputs": [],
   "source": [
    "#helper functions\n",
    "def get_centered_dft(img):\n",
    "    dft = np.fft.fft2(img)\n",
    "    centered_dft = np.fft.fftshift(dft)\n",
    "    return centered_dft\n",
    "\n",
    "def restore_img_from_centered_dft(centered_dft):\n",
    "    dft = np.fft.fftshift(centered_dft)\n",
    "    img = np.fft.ifft2(dft)\n",
    "    return img\n",
    "\n",
    "def flat_transform(dft):\n",
    "    real = dft.real\n",
    "    imag = dft.imag\n",
    "    H, W = dft.shape\n",
    "    flat_dft = np.zeros((H, 2 * W))\n",
    "    flat_dft[:, ::2] = real\n",
    "    flat_dft[:, 1::2] = imag\n",
    "    return flat_dft\n",
    "\n",
    "def inverse_flat_transform(flat_dft):\n",
    "    real = flat_dft[:, ::2]\n",
    "    imag = flat_dft[:, 1::2]\n",
    "    dft = np.vectorize(complex)(real, imag)\n",
    "    return dft\n",
    "    \n",
    "\n",
    "def show_centered_dft(centered_dft):\n",
    "    figures_dft_phase = np.angle(centered_dft)\n",
    "    figures_dft_magnitude = np.abs(centered_dft)\n",
    "    figures_dft_log_magnitude = np.log10(figures_dft_magnitude)\n",
    "\n",
    "    phase_stretched = (figures_dft_phase - np.min(figures_dft_phase)) / (np.max(figures_dft_phase) - np.min(figures_dft_phase))\n",
    "    log_magnitude_stretched = (figures_dft_log_magnitude - np.min(figures_dft_log_magnitude)) / (np.max(figures_dft_log_magnitude) - np.min(figures_dft_log_magnitude))\n",
    "\n",
    "    fig, axs = plt.subplots(1, 2)\n",
    "    axs[0].imshow(phase_stretched, cmap='gray')\n",
    "    axs[0].set_title('Phase Component')\n",
    "    axs[1].imshow(log_magnitude_stretched, cmap='gray')\n",
    "    axs[1].set_title('Logarithm of Magnitude Component')\n",
    "    plt.show()\n",
    "\n",
    "def center_transform(image):\n",
    "    h, w = image.shape[:2]\n",
    "    n = min(h * w, min(h, w) ** 2)\n",
    "    center = (h - 1) // 2, (w - 1) // 2\n",
    "    indices = [(i, j) for i in range(h) for j in range(w)]\n",
    "    original_indices = [(i, j) for i in range(h) for j in range(w)]\n",
    "    indices.sort(key=lambda x: (x[0] - center[0]) ** 2 + (x[1] - center[1]) ** 2)\n",
    "    indices = indices[:n]\n",
    "    new_image = np.zeros_like(image)\n",
    "    for i in range(n):\n",
    "        new_image[original_indices[i]] = image[indices[i]]\n",
    "    return new_image\n",
    "\n",
    "def inverse_center_transform(image):\n",
    "    h, w = image.shape[:2]\n",
    "    n = min(h * w, min(h, w) ** 2)\n",
    "    center = (h - 1) // 2, (w - 1) // 2\n",
    "    indices = [(i, j) for i in range(h) for j in range(w)]\n",
    "    original_indices = [(i, j) for i in range(h) for j in range(w)]\n",
    "    indices.sort(key=lambda x: (x[0] - center[0]) ** 2 + (x[1] - center[1]) ** 2)\n",
    "    indices = indices[:n]\n",
    "    new_image = np.zeros_like(image)\n",
    "    for i in range(n):\n",
    "        new_image[indices[i]] = image[original_indices[i]]\n",
    "    return new_image\n",
    "\n",
    "def DFT_transform(img):\n",
    "    result = torch.zeros((img.shape[0], img.shape[1], img.shape[2]*2))\n",
    "    for i in range(result.shape[0]): # for every channel\n",
    "        temp = img[i]\n",
    "        temp = get_centered_dft(temp)\n",
    "        temp = center_transform(temp)\n",
    "        temp = flat_transform(temp)\n",
    "        result[i] = torch.Tensor(temp)\n",
    "    return result\n",
    "\n",
    "def inverse_DFT_transform(img):\n",
    "    result = torch.zeros((img.shape[0], img.shape[1], img.shape[2]//2))\n",
    "    for i in range(result.shape[0]): # for every channel\n",
    "        temp = img[i]\n",
    "        temp = inverse_flat_transform(temp)\n",
    "        temp = inverse_center_transform(temp)\n",
    "        temp = restore_img_from_centered_dft(temp)\n",
    "        result[i] = torch.Tensor(temp)\n",
    "    return result.real"
   ]
  },
  {
   "cell_type": "markdown",
   "metadata": {},
   "source": [
    "Data"
   ]
  },
  {
   "cell_type": "code",
   "execution_count": 70,
   "metadata": {},
   "outputs": [],
   "source": [
    "# Convert images from 0-1 to 0-255 (integers). We use the long datatype as we will use the images as labels as well\n",
    "def discretize(sample):\n",
    "    return (sample * 255).to(torch.long)\n",
    "\n",
    "# Transformations applied on each image => only make them a tensor\n",
    "transform = transforms.Compose([transforms.ToTensor(),\n",
    "                                discretize])\n",
    "\n",
    "class MNIST_DFT(Dataset):\n",
    "    \n",
    "    def __init__(self, rootpath, subpath=None):\n",
    "        super().__init__()\n",
    "        self.rootpath = rootpath\n",
    "        self.subpath = subpath\n",
    "        self.path = os.path.join(self.rootpath, self.subpath)\n",
    "        self.img_path_list = os.listdir(self.path)\n",
    "        \n",
    "    def __getitem__(self, index):\n",
    "        img_name = self.img_path_list[index]\n",
    "        img_path = os.path.join(self.path, img_name)\n",
    "        img = Image.open(img_path)\n",
    "        img_tensor = transform(img)[0].unsqueeze(0)\n",
    "        label = 0\n",
    "        return img_tensor, label\n",
    "    \n",
    "    def __len__(self):\n",
    "        return len(self.img_path_list)\n",
    "    \n",
    "train_dataset = MNIST_DFT(\"../data/MNIST_DFT\", \"train\")\n",
    "test_set = MNIST_DFT(\"../data/MNIST_DFT\", \"test\")\n",
    "\n",
    "# # Loading the training dataset. We need to split it into a training and validation part\n",
    "# train_dataset = MNIST(root=DATASET_PATH, train=True, transform=transform, download=True)\n",
    "train_set, val_set = torch.utils.data.random_split(train_dataset, [50000, 10000])\n",
    "\n",
    "# # Loading the test set\n",
    "# test_set = MNIST(root=DATASET_PATH, train=False, transform=transform, download=True)\n",
    "\n",
    "# # We define a set of data loaders that we can use for various purposes later.\n",
    "train_loader = data.DataLoader(train_set, batch_size=128, shuffle=True, drop_last=True, pin_memory=True, num_workers=0)\n",
    "val_loader = data.DataLoader(val_set, batch_size=128, shuffle=False, drop_last=False, num_workers=0)\n",
    "test_loader = data.DataLoader(test_set, batch_size=128, shuffle=False, drop_last=False, num_workers=0)"
   ]
  },
  {
   "cell_type": "markdown",
   "metadata": {},
   "source": [
    "Network Definition"
   ]
  },
  {
   "cell_type": "code",
   "execution_count": 71,
   "metadata": {},
   "outputs": [],
   "source": [
    "class MaskedConvolution(nn.Module):\n",
    "\n",
    "    def __init__(self, c_in, c_out, mask, **kwargs):\n",
    "        \"\"\"\n",
    "        Implements a convolution with mask applied on its weights.\n",
    "        Inputs:\n",
    "            c_in - Number of input channels\n",
    "            c_out - Number of output channels\n",
    "            mask - Tensor of shape [kernel_size_H, kernel_size_W] with 0s where\n",
    "                   the convolution should be masked, and 1s otherwise.\n",
    "            kwargs - Additional arguments for the convolution\n",
    "        \"\"\"\n",
    "        super().__init__()\n",
    "        # For simplicity: calculate padding automatically\n",
    "        kernel_size = (mask.shape[0], mask.shape[1])\n",
    "        dilation = 1 if \"dilation\" not in kwargs else kwargs[\"dilation\"]\n",
    "        padding = tuple([dilation*(kernel_size[i]-1)//2 for i in range(2)])\n",
    "        # Actual convolution\n",
    "        self.conv = nn.Conv2d(c_in, c_out, kernel_size, padding=padding, **kwargs)\n",
    "\n",
    "        # Mask as buffer => it is no parameter but still a tensor of the module\n",
    "        # (must be moved with the devices)\n",
    "        self.register_buffer('mask', mask[None,None])\n",
    "\n",
    "    def forward(self, x):\n",
    "        self.conv.weight.data *= self.mask # Ensures zero's at masked positions\n",
    "        return self.conv(x)"
   ]
  },
  {
   "cell_type": "code",
   "execution_count": 72,
   "metadata": {},
   "outputs": [],
   "source": [
    "class VerticalStackConvolution(MaskedConvolution):\n",
    "\n",
    "    def __init__(self, c_in, c_out, kernel_size=3, mask_center=False, **kwargs):\n",
    "        # Mask out all pixels below. For efficiency, we could also reduce the kernel\n",
    "        # size in height, but for simplicity, we stick with masking here.\n",
    "        mask = torch.ones(kernel_size, kernel_size)\n",
    "        mask[kernel_size//2+1:,:] = 0\n",
    "\n",
    "        # For the very first convolution, we will also mask the center row\n",
    "        if mask_center:\n",
    "            mask[kernel_size//2,:] = 0\n",
    "\n",
    "        super().__init__(c_in, c_out, mask, **kwargs)\n",
    "\n",
    "class HorizontalStackConvolution(MaskedConvolution):\n",
    "\n",
    "    def __init__(self, c_in, c_out, kernel_size=3, mask_center=False, **kwargs):\n",
    "        # Mask out all pixels on the left. Note that our kernel has a size of 1\n",
    "        # in height because we only look at the pixel in the same row.\n",
    "        mask = torch.ones(1,kernel_size)\n",
    "        mask[0,kernel_size//2+1:] = 0\n",
    "\n",
    "        # For the very first convolution, we will also mask the center pixel\n",
    "        if mask_center:\n",
    "            mask[0,kernel_size//2] = 0\n",
    "\n",
    "        super().__init__(c_in, c_out, mask, **kwargs)"
   ]
  },
  {
   "cell_type": "code",
   "execution_count": 73,
   "metadata": {},
   "outputs": [],
   "source": [
    "class GatedMaskedConv(nn.Module):\n",
    "\n",
    "    def __init__(self, c_in, **kwargs):\n",
    "        \"\"\"\n",
    "        Gated Convolution block implemented the computation graph shown above.\n",
    "        \"\"\"\n",
    "        super().__init__()\n",
    "        self.conv_vert = VerticalStackConvolution(c_in, c_out=2*c_in, **kwargs)\n",
    "        self.conv_horiz = HorizontalStackConvolution(c_in, c_out=2*c_in, **kwargs)\n",
    "        self.conv_vert_to_horiz = nn.Conv2d(2*c_in, 2*c_in, kernel_size=1, padding=0)\n",
    "        self.conv_horiz_1x1 = nn.Conv2d(c_in, c_in, kernel_size=1, padding=0)\n",
    "\n",
    "    def forward(self, v_stack, h_stack):\n",
    "        # Vertical stack (left)\n",
    "        v_stack_feat = self.conv_vert(v_stack)\n",
    "        v_val, v_gate = v_stack_feat.chunk(2, dim=1)\n",
    "        v_stack_out = torch.tanh(v_val) * torch.sigmoid(v_gate)\n",
    "\n",
    "        # Horizontal stack (right)\n",
    "        h_stack_feat = self.conv_horiz(h_stack)\n",
    "        h_stack_feat = h_stack_feat + self.conv_vert_to_horiz(v_stack_feat)\n",
    "        h_val, h_gate = h_stack_feat.chunk(2, dim=1)\n",
    "        h_stack_feat = torch.tanh(h_val) * torch.sigmoid(h_gate)\n",
    "        h_stack_out = self.conv_horiz_1x1(h_stack_feat)\n",
    "        h_stack_out = h_stack_out + h_stack\n",
    "\n",
    "        return v_stack_out, h_stack_out"
   ]
  },
  {
   "cell_type": "code",
   "execution_count": 74,
   "metadata": {},
   "outputs": [],
   "source": [
    "class PixelCNN(nn.Module):\n",
    "\n",
    "    def __init__(self, c_in, c_hidden):\n",
    "        super().__init__()\n",
    "        # self.save_hyperparameters()\n",
    "\n",
    "        # Initial convolutions skipping the center pixel\n",
    "        self.conv_vstack = VerticalStackConvolution(c_in, c_hidden, mask_center=True)\n",
    "        self.conv_hstack = HorizontalStackConvolution(c_in, c_hidden, mask_center=True)\n",
    "        # Convolution block of PixelCNN. We use dilation instead of downscaling\n",
    "        self.conv_layers = nn.ModuleList([\n",
    "            GatedMaskedConv(c_hidden),\n",
    "            GatedMaskedConv(c_hidden, dilation=2),\n",
    "            GatedMaskedConv(c_hidden),\n",
    "            GatedMaskedConv(c_hidden, dilation=4),\n",
    "            GatedMaskedConv(c_hidden),\n",
    "            GatedMaskedConv(c_hidden, dilation=2),\n",
    "            GatedMaskedConv(c_hidden)\n",
    "        ])\n",
    "        # Output classification convolution (1x1)\n",
    "        self.conv_out = nn.Conv2d(c_hidden, c_in * 256, kernel_size=1, padding=0)\n",
    "\n",
    "        # self.example_input_array = train_set[0][0][None]\n",
    "\n",
    "    def forward(self, x):\n",
    "        \"\"\"\n",
    "        Forward image through model and return logits for each pixel.\n",
    "        Inputs:\n",
    "            x - Image tensor with integer values between 0 and 255.\n",
    "        \"\"\"\n",
    "        # Scale input from 0 to 255 back to -1 to 1\n",
    "        x = (x.float() / 255.0) * 2 - 1\n",
    "\n",
    "        # Initial convolutions\n",
    "        v_stack = self.conv_vstack(x)\n",
    "        h_stack = self.conv_hstack(x)\n",
    "        # Gated Convolutions\n",
    "        for layer in self.conv_layers:\n",
    "            v_stack, h_stack = layer(v_stack, h_stack)\n",
    "        # 1x1 classification convolution\n",
    "        # Apply ELU before 1x1 convolution for non-linearity on residual connection\n",
    "        out = self.conv_out(F.elu(h_stack))\n",
    "\n",
    "        # Output dimensions: [Batch, Classes, Channels, Height, Width]\n",
    "        out = out.reshape(out.shape[0], 256, out.shape[1]//256, out.shape[2], out.shape[3])\n",
    "        return out\n",
    "\n",
    "    def calc_likelihood(self, x):\n",
    "        # Forward pass with bpd likelihood calculation\n",
    "        pred = self.forward(x)\n",
    "        nll = F.cross_entropy(pred, x, reduction='none')\n",
    "        bpd = nll.mean(dim=[1,2,3]) * np.log2(np.exp(1))\n",
    "        return bpd.mean()\n",
    "\n",
    "    @torch.no_grad()\n",
    "    def sample(self, img_shape, img=None):\n",
    "        \"\"\"\n",
    "        Sampling function for the autoregressive model.\n",
    "        Inputs:\n",
    "            img_shape - Shape of the image to generate (B,C,H,W)\n",
    "            img (optional) - If given, this tensor will be used as\n",
    "                             a starting image. The pixels to fill\n",
    "                             should be -1 in the input tensor.\n",
    "        \"\"\"\n",
    "        # Create empty image\n",
    "        if img is None:\n",
    "            img = torch.zeros(img_shape, dtype=torch.long).to(device) - 1\n",
    "        # Generation loop\n",
    "        for h in tqdm(range(img_shape[2]), leave=False):\n",
    "            for w in range(img_shape[3]):\n",
    "                for c in range(img_shape[1]):\n",
    "                    # Skip if not to be filled (-1)\n",
    "                    if (img[:,c,h,w] != -1).all().item():\n",
    "                        continue\n",
    "                    # For efficiency, we only have to input the upper part of the image\n",
    "                    # as all other parts will be skipped by the masked convolutions anyways\n",
    "                    pred = self.forward(img[:,:,:h+1,:])\n",
    "                    probs = F.softmax(pred[:,:,c,h,w], dim=-1)\n",
    "                    img[:,c,h,w] = torch.multinomial(probs, num_samples=1).squeeze(dim=-1)\n",
    "        return img\n",
    "\n",
    "    # def configure_optimizers(self):\n",
    "    #     optimizer = optim.Adam(self.parameters(), lr=1e-3)\n",
    "    #     scheduler = optim.lr_scheduler.StepLR(optimizer, 1, gamma=0.99)\n",
    "    #     return [optimizer], [scheduler]\n",
    "\n",
    "    # def training_step(self, batch, batch_idx):\n",
    "    #     loss = self.calc_likelihood(batch[0])\n",
    "    #     self.log('train_bpd', loss)\n",
    "    #     return loss\n",
    "\n",
    "    # def validation_step(self, batch, batch_idx):\n",
    "    #     loss = self.calc_likelihood(batch[0])\n",
    "    #     self.log('val_bpd', loss)\n",
    "\n",
    "    # def test_step(self, batch, batch_idx):\n",
    "    #     loss = self.calc_likelihood(batch[0])\n",
    "    #     self.log('test_bpd', loss)"
   ]
  },
  {
   "cell_type": "markdown",
   "metadata": {},
   "source": [
    "Loss function"
   ]
  },
  {
   "cell_type": "code",
   "execution_count": 75,
   "metadata": {},
   "outputs": [],
   "source": [
    "class Loss_fn(nn.Module):\n",
    "    def __init__(self):\n",
    "        super().__init__()\n",
    "        \n",
    "    def forward(self, outputs, imgs):\n",
    "        return (F.cross_entropy(outputs, imgs, reduction='none')).mean()"
   ]
  },
  {
   "cell_type": "markdown",
   "metadata": {},
   "source": [
    "Image saving&demonstration"
   ]
  },
  {
   "cell_type": "code",
   "execution_count": 76,
   "metadata": {},
   "outputs": [],
   "source": [
    "def show_imgs(imgs):\n",
    "    num_imgs = imgs.shape[0] if isinstance(imgs, torch.Tensor) else len(imgs)\n",
    "    nrow = min(num_imgs, 4)\n",
    "    ncol = int(math.ceil(num_imgs/nrow))\n",
    "    imgs = torchvision.utils.make_grid(imgs, nrow=nrow, pad_value=128)\n",
    "    imgs = imgs.clamp(min=0, max=255)\n",
    "    np_imgs = imgs.cpu().numpy()\n",
    "    plt.figure(figsize=(1.5*nrow, 1.5*ncol))\n",
    "    plt.imshow(np.transpose(np_imgs, (1,2,0)), interpolation='nearest')\n",
    "    plt.axis('off')\n",
    "    plt.show()\n",
    "    plt.close()"
   ]
  },
  {
   "cell_type": "markdown",
   "metadata": {},
   "source": [
    "Training"
   ]
  },
  {
   "cell_type": "code",
   "execution_count": 77,
   "metadata": {},
   "outputs": [
    {
     "name": "stdout",
     "output_type": "stream",
     "text": [
      "checkpoint ../checkpoints/PixelCNN_DFT_train_epoch_146_195_lr_2em4/epoch_195.ckpt successfully resumed. starting from epoch 196\n"
     ]
    },
    {
     "data": {
      "application/vnd.jupyter.widget-view+json": {
       "model_id": "00952790b0fb43699ee749a143283576",
       "version_major": 2,
       "version_minor": 0
      },
      "text/plain": [
       "epoch 196 training :   0%|          | 0/390 [00:00<?, ?it/s]"
      ]
     },
     "metadata": {},
     "output_type": "display_data"
    },
    {
     "data": {
      "application/vnd.jupyter.widget-view+json": {
       "model_id": "bff0fbd505ea4f21a021be71ff456912",
       "version_major": 2,
       "version_minor": 0
      },
      "text/plain": [
       "epoch 196 validating :   0%|          | 0/79 [00:00<?, ?it/s]"
      ]
     },
     "metadata": {},
     "output_type": "display_data"
    },
    {
     "data": {
      "application/vnd.jupyter.widget-view+json": {
       "model_id": "7e44c05151aa4116a5185533080c99bf",
       "version_major": 2,
       "version_minor": 0
      },
      "text/plain": [
       "epoch 197 training :   0%|          | 0/390 [00:00<?, ?it/s]"
      ]
     },
     "metadata": {},
     "output_type": "display_data"
    },
    {
     "data": {
      "application/vnd.jupyter.widget-view+json": {
       "model_id": "449e61d2ddb74982b39680bf0c59d2c4",
       "version_major": 2,
       "version_minor": 0
      },
      "text/plain": [
       "epoch 197 validating :   0%|          | 0/79 [00:00<?, ?it/s]"
      ]
     },
     "metadata": {},
     "output_type": "display_data"
    },
    {
     "data": {
      "application/vnd.jupyter.widget-view+json": {
       "model_id": "0e1eb3168f3a462bbd8a509027880ab6",
       "version_major": 2,
       "version_minor": 0
      },
      "text/plain": [
       "epoch 198 training :   0%|          | 0/390 [00:00<?, ?it/s]"
      ]
     },
     "metadata": {},
     "output_type": "display_data"
    },
    {
     "data": {
      "application/vnd.jupyter.widget-view+json": {
       "model_id": "bdcc4e6898414e4db61aaeac843d7ffe",
       "version_major": 2,
       "version_minor": 0
      },
      "text/plain": [
       "epoch 198 validating :   0%|          | 0/79 [00:00<?, ?it/s]"
      ]
     },
     "metadata": {},
     "output_type": "display_data"
    },
    {
     "data": {
      "application/vnd.jupyter.widget-view+json": {
       "model_id": "0cb5fe5e5fd84d379a9c66929f790e6b",
       "version_major": 2,
       "version_minor": 0
      },
      "text/plain": [
       "epoch 199 training :   0%|          | 0/390 [00:00<?, ?it/s]"
      ]
     },
     "metadata": {},
     "output_type": "display_data"
    },
    {
     "data": {
      "application/vnd.jupyter.widget-view+json": {
       "model_id": "799fbf04b8d4428ba77c406af0890f2b",
       "version_major": 2,
       "version_minor": 0
      },
      "text/plain": [
       "epoch 199 validating :   0%|          | 0/79 [00:00<?, ?it/s]"
      ]
     },
     "metadata": {},
     "output_type": "display_data"
    },
    {
     "data": {
      "application/vnd.jupyter.widget-view+json": {
       "model_id": "42c886031cf94d448137ceecf2500163",
       "version_major": 2,
       "version_minor": 0
      },
      "text/plain": [
       "epoch 200 training :   0%|          | 0/390 [00:00<?, ?it/s]"
      ]
     },
     "metadata": {},
     "output_type": "display_data"
    },
    {
     "data": {
      "application/vnd.jupyter.widget-view+json": {
       "model_id": "d6e537bdb06a433faa0fe52059cac817",
       "version_major": 2,
       "version_minor": 0
      },
      "text/plain": [
       "epoch 200 validating :   0%|          | 0/79 [00:00<?, ?it/s]"
      ]
     },
     "metadata": {},
     "output_type": "display_data"
    },
    {
     "name": "stdout",
     "output_type": "stream",
     "text": [
      "epoch_200.ckpt saved!\n"
     ]
    },
    {
     "data": {
      "application/vnd.jupyter.widget-view+json": {
       "model_id": "23ad470170ea4554830857748b10a446",
       "version_major": 2,
       "version_minor": 0
      },
      "text/plain": [
       "  0%|          | 0/28 [00:00<?, ?it/s]"
      ]
     },
     "metadata": {},
     "output_type": "display_data"
    },
    {
     "name": "stderr",
     "output_type": "stream",
     "text": [
      "C:\\Users\\lenovo\\AppData\\Local\\Temp\\ipykernel_26564\\2313163136.py:64: UserWarning: To copy construct from a tensor, it is recommended to use sourceTensor.clone().detach() or sourceTensor.clone().detach().requires_grad_(True), rather than torch.tensor(sourceTensor).\n",
      "  restored_imgs[i] = torch.tensor(inverse_DFT_transform(samples[i]))\n"
     ]
    },
    {
     "data": {
      "application/vnd.jupyter.widget-view+json": {
       "model_id": "7221a8e73c94421c91de5d2044b9d106",
       "version_major": 2,
       "version_minor": 0
      },
      "text/plain": [
       "epoch 201 training :   0%|          | 0/390 [00:00<?, ?it/s]"
      ]
     },
     "metadata": {},
     "output_type": "display_data"
    },
    {
     "data": {
      "application/vnd.jupyter.widget-view+json": {
       "model_id": "dfbb323cea4e49f29c477eab714cf04b",
       "version_major": 2,
       "version_minor": 0
      },
      "text/plain": [
       "epoch 201 validating :   0%|          | 0/79 [00:00<?, ?it/s]"
      ]
     },
     "metadata": {},
     "output_type": "display_data"
    },
    {
     "data": {
      "application/vnd.jupyter.widget-view+json": {
       "model_id": "d599239714014f8b925c4d698425d2db",
       "version_major": 2,
       "version_minor": 0
      },
      "text/plain": [
       "epoch 202 training :   0%|          | 0/390 [00:00<?, ?it/s]"
      ]
     },
     "metadata": {},
     "output_type": "display_data"
    },
    {
     "data": {
      "application/vnd.jupyter.widget-view+json": {
       "model_id": "e8fc17b48cc14f62859f9f164c35ceb9",
       "version_major": 2,
       "version_minor": 0
      },
      "text/plain": [
       "epoch 202 validating :   0%|          | 0/79 [00:00<?, ?it/s]"
      ]
     },
     "metadata": {},
     "output_type": "display_data"
    },
    {
     "data": {
      "application/vnd.jupyter.widget-view+json": {
       "model_id": "b0981d41b5834e46acb76c74acb396ef",
       "version_major": 2,
       "version_minor": 0
      },
      "text/plain": [
       "epoch 203 training :   0%|          | 0/390 [00:00<?, ?it/s]"
      ]
     },
     "metadata": {},
     "output_type": "display_data"
    },
    {
     "data": {
      "application/vnd.jupyter.widget-view+json": {
       "model_id": "732833bb05854181a182b5a999c4c043",
       "version_major": 2,
       "version_minor": 0
      },
      "text/plain": [
       "epoch 203 validating :   0%|          | 0/79 [00:00<?, ?it/s]"
      ]
     },
     "metadata": {},
     "output_type": "display_data"
    },
    {
     "data": {
      "application/vnd.jupyter.widget-view+json": {
       "model_id": "549090634cd7489b867111f6763e1e2b",
       "version_major": 2,
       "version_minor": 0
      },
      "text/plain": [
       "epoch 204 training :   0%|          | 0/390 [00:00<?, ?it/s]"
      ]
     },
     "metadata": {},
     "output_type": "display_data"
    },
    {
     "data": {
      "application/vnd.jupyter.widget-view+json": {
       "model_id": "6ec3ba41489b4c85ae8bc9dcb3cc4a89",
       "version_major": 2,
       "version_minor": 0
      },
      "text/plain": [
       "epoch 204 validating :   0%|          | 0/79 [00:00<?, ?it/s]"
      ]
     },
     "metadata": {},
     "output_type": "display_data"
    },
    {
     "data": {
      "application/vnd.jupyter.widget-view+json": {
       "model_id": "7b0c17b1aaee4f159e8e8136f48a1220",
       "version_major": 2,
       "version_minor": 0
      },
      "text/plain": [
       "epoch 205 training :   0%|          | 0/390 [00:00<?, ?it/s]"
      ]
     },
     "metadata": {},
     "output_type": "display_data"
    },
    {
     "data": {
      "application/vnd.jupyter.widget-view+json": {
       "model_id": "1c88a28cb2424cf5a2ac2825e924f8ae",
       "version_major": 2,
       "version_minor": 0
      },
      "text/plain": [
       "epoch 205 validating :   0%|          | 0/79 [00:00<?, ?it/s]"
      ]
     },
     "metadata": {},
     "output_type": "display_data"
    },
    {
     "name": "stdout",
     "output_type": "stream",
     "text": [
      "epoch_205.ckpt saved!\n"
     ]
    },
    {
     "data": {
      "application/vnd.jupyter.widget-view+json": {
       "model_id": "532916532fe844c3aa7c259fac4212da",
       "version_major": 2,
       "version_minor": 0
      },
      "text/plain": [
       "  0%|          | 0/28 [00:00<?, ?it/s]"
      ]
     },
     "metadata": {},
     "output_type": "display_data"
    },
    {
     "data": {
      "application/vnd.jupyter.widget-view+json": {
       "model_id": "a2ae75024d0a49caa99ecc5183917b81",
       "version_major": 2,
       "version_minor": 0
      },
      "text/plain": [
       "epoch 206 training :   0%|          | 0/390 [00:00<?, ?it/s]"
      ]
     },
     "metadata": {},
     "output_type": "display_data"
    },
    {
     "data": {
      "application/vnd.jupyter.widget-view+json": {
       "model_id": "1dc1d064fb6a4cd48ae10f77ea17cfcb",
       "version_major": 2,
       "version_minor": 0
      },
      "text/plain": [
       "epoch 206 validating :   0%|          | 0/79 [00:00<?, ?it/s]"
      ]
     },
     "metadata": {},
     "output_type": "display_data"
    },
    {
     "data": {
      "application/vnd.jupyter.widget-view+json": {
       "model_id": "ce97cc7719e04414a0d4c366e4da2f5a",
       "version_major": 2,
       "version_minor": 0
      },
      "text/plain": [
       "epoch 207 training :   0%|          | 0/390 [00:00<?, ?it/s]"
      ]
     },
     "metadata": {},
     "output_type": "display_data"
    },
    {
     "data": {
      "application/vnd.jupyter.widget-view+json": {
       "model_id": "899560a0584f4bc3ba0a291418eba5f9",
       "version_major": 2,
       "version_minor": 0
      },
      "text/plain": [
       "epoch 207 validating :   0%|          | 0/79 [00:00<?, ?it/s]"
      ]
     },
     "metadata": {},
     "output_type": "display_data"
    },
    {
     "data": {
      "application/vnd.jupyter.widget-view+json": {
       "model_id": "1d3b8c91679b4b98ab126c09d4207e4f",
       "version_major": 2,
       "version_minor": 0
      },
      "text/plain": [
       "epoch 208 training :   0%|          | 0/390 [00:00<?, ?it/s]"
      ]
     },
     "metadata": {},
     "output_type": "display_data"
    },
    {
     "data": {
      "application/vnd.jupyter.widget-view+json": {
       "model_id": "b944c0f58d3e4bf8a55499e4ab9cf8f9",
       "version_major": 2,
       "version_minor": 0
      },
      "text/plain": [
       "epoch 208 validating :   0%|          | 0/79 [00:00<?, ?it/s]"
      ]
     },
     "metadata": {},
     "output_type": "display_data"
    },
    {
     "data": {
      "application/vnd.jupyter.widget-view+json": {
       "model_id": "b13993dcba364f59a29d22cf8f077885",
       "version_major": 2,
       "version_minor": 0
      },
      "text/plain": [
       "epoch 209 training :   0%|          | 0/390 [00:00<?, ?it/s]"
      ]
     },
     "metadata": {},
     "output_type": "display_data"
    },
    {
     "data": {
      "application/vnd.jupyter.widget-view+json": {
       "model_id": "8b0f30a4fe9348ebb157fa9195a2b578",
       "version_major": 2,
       "version_minor": 0
      },
      "text/plain": [
       "epoch 209 validating :   0%|          | 0/79 [00:00<?, ?it/s]"
      ]
     },
     "metadata": {},
     "output_type": "display_data"
    },
    {
     "data": {
      "application/vnd.jupyter.widget-view+json": {
       "model_id": "7d21b1c14bca4d33840dfb12aed78151",
       "version_major": 2,
       "version_minor": 0
      },
      "text/plain": [
       "epoch 210 training :   0%|          | 0/390 [00:00<?, ?it/s]"
      ]
     },
     "metadata": {},
     "output_type": "display_data"
    },
    {
     "data": {
      "application/vnd.jupyter.widget-view+json": {
       "model_id": "9da4dac589354ec7baf71bbcaa4cd2b8",
       "version_major": 2,
       "version_minor": 0
      },
      "text/plain": [
       "epoch 210 validating :   0%|          | 0/79 [00:00<?, ?it/s]"
      ]
     },
     "metadata": {},
     "output_type": "display_data"
    },
    {
     "name": "stdout",
     "output_type": "stream",
     "text": [
      "epoch_210.ckpt saved!\n"
     ]
    },
    {
     "data": {
      "application/vnd.jupyter.widget-view+json": {
       "model_id": "6fb19dcae9c141b38280233d9c2dc433",
       "version_major": 2,
       "version_minor": 0
      },
      "text/plain": [
       "  0%|          | 0/28 [00:00<?, ?it/s]"
      ]
     },
     "metadata": {},
     "output_type": "display_data"
    },
    {
     "data": {
      "application/vnd.jupyter.widget-view+json": {
       "model_id": "9c346741fdbb4f92ab82ff49d1f1c48e",
       "version_major": 2,
       "version_minor": 0
      },
      "text/plain": [
       "epoch 211 training :   0%|          | 0/390 [00:00<?, ?it/s]"
      ]
     },
     "metadata": {},
     "output_type": "display_data"
    },
    {
     "data": {
      "application/vnd.jupyter.widget-view+json": {
       "model_id": "b13e1dea750b4828b60d4d2f9e5987bd",
       "version_major": 2,
       "version_minor": 0
      },
      "text/plain": [
       "epoch 211 validating :   0%|          | 0/79 [00:00<?, ?it/s]"
      ]
     },
     "metadata": {},
     "output_type": "display_data"
    },
    {
     "data": {
      "application/vnd.jupyter.widget-view+json": {
       "model_id": "32b7bf0122dd4ea987c2479e7e39eca9",
       "version_major": 2,
       "version_minor": 0
      },
      "text/plain": [
       "epoch 212 training :   0%|          | 0/390 [00:00<?, ?it/s]"
      ]
     },
     "metadata": {},
     "output_type": "display_data"
    },
    {
     "data": {
      "application/vnd.jupyter.widget-view+json": {
       "model_id": "43e982bc0af04c4ea72d7d59ecaba5de",
       "version_major": 2,
       "version_minor": 0
      },
      "text/plain": [
       "epoch 212 validating :   0%|          | 0/79 [00:00<?, ?it/s]"
      ]
     },
     "metadata": {},
     "output_type": "display_data"
    },
    {
     "data": {
      "application/vnd.jupyter.widget-view+json": {
       "model_id": "e3d8515188fc43dc9f8e776f100e3a1e",
       "version_major": 2,
       "version_minor": 0
      },
      "text/plain": [
       "epoch 213 training :   0%|          | 0/390 [00:00<?, ?it/s]"
      ]
     },
     "metadata": {},
     "output_type": "display_data"
    },
    {
     "data": {
      "application/vnd.jupyter.widget-view+json": {
       "model_id": "c8b5049745694c52a4c770cfcd6a29b7",
       "version_major": 2,
       "version_minor": 0
      },
      "text/plain": [
       "epoch 213 validating :   0%|          | 0/79 [00:00<?, ?it/s]"
      ]
     },
     "metadata": {},
     "output_type": "display_data"
    },
    {
     "data": {
      "application/vnd.jupyter.widget-view+json": {
       "model_id": "0035f666f7c94a0295133da071e99572",
       "version_major": 2,
       "version_minor": 0
      },
      "text/plain": [
       "epoch 214 training :   0%|          | 0/390 [00:00<?, ?it/s]"
      ]
     },
     "metadata": {},
     "output_type": "display_data"
    },
    {
     "data": {
      "application/vnd.jupyter.widget-view+json": {
       "model_id": "3700f711369a4d52a4fd95ad656ef122",
       "version_major": 2,
       "version_minor": 0
      },
      "text/plain": [
       "epoch 214 validating :   0%|          | 0/79 [00:00<?, ?it/s]"
      ]
     },
     "metadata": {},
     "output_type": "display_data"
    },
    {
     "data": {
      "application/vnd.jupyter.widget-view+json": {
       "model_id": "16c33229e2654bacbafc76803b57a6b5",
       "version_major": 2,
       "version_minor": 0
      },
      "text/plain": [
       "epoch 215 training :   0%|          | 0/390 [00:00<?, ?it/s]"
      ]
     },
     "metadata": {},
     "output_type": "display_data"
    },
    {
     "data": {
      "application/vnd.jupyter.widget-view+json": {
       "model_id": "4cb66913e3fb48d2b899c6a56feaa6ec",
       "version_major": 2,
       "version_minor": 0
      },
      "text/plain": [
       "epoch 215 validating :   0%|          | 0/79 [00:00<?, ?it/s]"
      ]
     },
     "metadata": {},
     "output_type": "display_data"
    },
    {
     "name": "stdout",
     "output_type": "stream",
     "text": [
      "epoch_215.ckpt saved!\n"
     ]
    },
    {
     "data": {
      "application/vnd.jupyter.widget-view+json": {
       "model_id": "69c53c1a259d4bd4ae311066a25c6d5d",
       "version_major": 2,
       "version_minor": 0
      },
      "text/plain": [
       "  0%|          | 0/28 [00:00<?, ?it/s]"
      ]
     },
     "metadata": {},
     "output_type": "display_data"
    },
    {
     "data": {
      "application/vnd.jupyter.widget-view+json": {
       "model_id": "d08001e692a041ed966cddf8ba3fdee3",
       "version_major": 2,
       "version_minor": 0
      },
      "text/plain": [
       "epoch 216 training :   0%|          | 0/390 [00:00<?, ?it/s]"
      ]
     },
     "metadata": {},
     "output_type": "display_data"
    },
    {
     "data": {
      "application/vnd.jupyter.widget-view+json": {
       "model_id": "9ee935a0be4648559f38fc8ad0d2a737",
       "version_major": 2,
       "version_minor": 0
      },
      "text/plain": [
       "epoch 216 validating :   0%|          | 0/79 [00:00<?, ?it/s]"
      ]
     },
     "metadata": {},
     "output_type": "display_data"
    },
    {
     "data": {
      "application/vnd.jupyter.widget-view+json": {
       "model_id": "736ffef7d29c4090ab672c7437df0635",
       "version_major": 2,
       "version_minor": 0
      },
      "text/plain": [
       "epoch 217 training :   0%|          | 0/390 [00:00<?, ?it/s]"
      ]
     },
     "metadata": {},
     "output_type": "display_data"
    },
    {
     "data": {
      "application/vnd.jupyter.widget-view+json": {
       "model_id": "77b3b8f91aa046c0b58f51fb62e13e1f",
       "version_major": 2,
       "version_minor": 0
      },
      "text/plain": [
       "epoch 217 validating :   0%|          | 0/79 [00:00<?, ?it/s]"
      ]
     },
     "metadata": {},
     "output_type": "display_data"
    },
    {
     "data": {
      "application/vnd.jupyter.widget-view+json": {
       "model_id": "96e3ea9b229e4382b01146773c860d30",
       "version_major": 2,
       "version_minor": 0
      },
      "text/plain": [
       "epoch 218 training :   0%|          | 0/390 [00:00<?, ?it/s]"
      ]
     },
     "metadata": {},
     "output_type": "display_data"
    },
    {
     "data": {
      "application/vnd.jupyter.widget-view+json": {
       "model_id": "6a962e2a1bf444fbb4d8af21c6e46b80",
       "version_major": 2,
       "version_minor": 0
      },
      "text/plain": [
       "epoch 218 validating :   0%|          | 0/79 [00:00<?, ?it/s]"
      ]
     },
     "metadata": {},
     "output_type": "display_data"
    },
    {
     "data": {
      "application/vnd.jupyter.widget-view+json": {
       "model_id": "dbbb199f26b5465e8d8eeb213f2dacc8",
       "version_major": 2,
       "version_minor": 0
      },
      "text/plain": [
       "epoch 219 training :   0%|          | 0/390 [00:00<?, ?it/s]"
      ]
     },
     "metadata": {},
     "output_type": "display_data"
    },
    {
     "data": {
      "application/vnd.jupyter.widget-view+json": {
       "model_id": "bacd870ae1004c4c9dd0d7e36ae4503f",
       "version_major": 2,
       "version_minor": 0
      },
      "text/plain": [
       "epoch 219 validating :   0%|          | 0/79 [00:00<?, ?it/s]"
      ]
     },
     "metadata": {},
     "output_type": "display_data"
    },
    {
     "data": {
      "application/vnd.jupyter.widget-view+json": {
       "model_id": "929243fb241c4e9390aac48e3ea1f2af",
       "version_major": 2,
       "version_minor": 0
      },
      "text/plain": [
       "epoch 220 training :   0%|          | 0/390 [00:00<?, ?it/s]"
      ]
     },
     "metadata": {},
     "output_type": "display_data"
    },
    {
     "data": {
      "application/vnd.jupyter.widget-view+json": {
       "model_id": "c1e5bda4b08a41c0b7e7df44e246f3db",
       "version_major": 2,
       "version_minor": 0
      },
      "text/plain": [
       "epoch 220 validating :   0%|          | 0/79 [00:00<?, ?it/s]"
      ]
     },
     "metadata": {},
     "output_type": "display_data"
    },
    {
     "name": "stdout",
     "output_type": "stream",
     "text": [
      "epoch_220.ckpt saved!\n"
     ]
    },
    {
     "data": {
      "application/vnd.jupyter.widget-view+json": {
       "model_id": "1aeeede9e4ed4686b96cbd19212de5b8",
       "version_major": 2,
       "version_minor": 0
      },
      "text/plain": [
       "  0%|          | 0/28 [00:00<?, ?it/s]"
      ]
     },
     "metadata": {},
     "output_type": "display_data"
    },
    {
     "data": {
      "application/vnd.jupyter.widget-view+json": {
       "model_id": "1fdb34cf3dc84ed4a19c7cac540aaf07",
       "version_major": 2,
       "version_minor": 0
      },
      "text/plain": [
       "epoch 221 training :   0%|          | 0/390 [00:00<?, ?it/s]"
      ]
     },
     "metadata": {},
     "output_type": "display_data"
    },
    {
     "data": {
      "application/vnd.jupyter.widget-view+json": {
       "model_id": "661c9a729fad471f899973c39bb9d4ab",
       "version_major": 2,
       "version_minor": 0
      },
      "text/plain": [
       "epoch 221 validating :   0%|          | 0/79 [00:00<?, ?it/s]"
      ]
     },
     "metadata": {},
     "output_type": "display_data"
    },
    {
     "data": {
      "application/vnd.jupyter.widget-view+json": {
       "model_id": "1b4d7212062f4d4da1f2416ece7e68b5",
       "version_major": 2,
       "version_minor": 0
      },
      "text/plain": [
       "epoch 222 training :   0%|          | 0/390 [00:00<?, ?it/s]"
      ]
     },
     "metadata": {},
     "output_type": "display_data"
    },
    {
     "data": {
      "application/vnd.jupyter.widget-view+json": {
       "model_id": "d83c54d8f6554dae885ac3772eab80e3",
       "version_major": 2,
       "version_minor": 0
      },
      "text/plain": [
       "epoch 222 validating :   0%|          | 0/79 [00:00<?, ?it/s]"
      ]
     },
     "metadata": {},
     "output_type": "display_data"
    },
    {
     "data": {
      "application/vnd.jupyter.widget-view+json": {
       "model_id": "6f0c94d1b966464aaeb2996b94a60529",
       "version_major": 2,
       "version_minor": 0
      },
      "text/plain": [
       "epoch 223 training :   0%|          | 0/390 [00:00<?, ?it/s]"
      ]
     },
     "metadata": {},
     "output_type": "display_data"
    },
    {
     "data": {
      "application/vnd.jupyter.widget-view+json": {
       "model_id": "e28b37580228488aa4e7efac5d0c544e",
       "version_major": 2,
       "version_minor": 0
      },
      "text/plain": [
       "epoch 223 validating :   0%|          | 0/79 [00:00<?, ?it/s]"
      ]
     },
     "metadata": {},
     "output_type": "display_data"
    },
    {
     "data": {
      "application/vnd.jupyter.widget-view+json": {
       "model_id": "b06d2a1ceaa34e84b1fa91d2d257c500",
       "version_major": 2,
       "version_minor": 0
      },
      "text/plain": [
       "epoch 224 training :   0%|          | 0/390 [00:00<?, ?it/s]"
      ]
     },
     "metadata": {},
     "output_type": "display_data"
    },
    {
     "data": {
      "application/vnd.jupyter.widget-view+json": {
       "model_id": "0c762c490572486b904d18111f0fb05e",
       "version_major": 2,
       "version_minor": 0
      },
      "text/plain": [
       "epoch 224 validating :   0%|          | 0/79 [00:00<?, ?it/s]"
      ]
     },
     "metadata": {},
     "output_type": "display_data"
    },
    {
     "data": {
      "application/vnd.jupyter.widget-view+json": {
       "model_id": "2a10e619eb5b47e8ba41badfa4e6a111",
       "version_major": 2,
       "version_minor": 0
      },
      "text/plain": [
       "epoch 225 training :   0%|          | 0/390 [00:00<?, ?it/s]"
      ]
     },
     "metadata": {},
     "output_type": "display_data"
    },
    {
     "data": {
      "application/vnd.jupyter.widget-view+json": {
       "model_id": "f5feb6b931f9419d8cc846c957e7734f",
       "version_major": 2,
       "version_minor": 0
      },
      "text/plain": [
       "epoch 225 validating :   0%|          | 0/79 [00:00<?, ?it/s]"
      ]
     },
     "metadata": {},
     "output_type": "display_data"
    },
    {
     "name": "stdout",
     "output_type": "stream",
     "text": [
      "epoch_225.ckpt saved!\n"
     ]
    },
    {
     "data": {
      "application/vnd.jupyter.widget-view+json": {
       "model_id": "bea8762311bb496aac08726d402da461",
       "version_major": 2,
       "version_minor": 0
      },
      "text/plain": [
       "  0%|          | 0/28 [00:00<?, ?it/s]"
      ]
     },
     "metadata": {},
     "output_type": "display_data"
    },
    {
     "data": {
      "application/vnd.jupyter.widget-view+json": {
       "model_id": "7cef6c3734974dadb3038e30feb94027",
       "version_major": 2,
       "version_minor": 0
      },
      "text/plain": [
       "epoch 226 training :   0%|          | 0/390 [00:00<?, ?it/s]"
      ]
     },
     "metadata": {},
     "output_type": "display_data"
    },
    {
     "data": {
      "application/vnd.jupyter.widget-view+json": {
       "model_id": "13ff179c01c84ba199e83c9a2baa6922",
       "version_major": 2,
       "version_minor": 0
      },
      "text/plain": [
       "epoch 226 validating :   0%|          | 0/79 [00:00<?, ?it/s]"
      ]
     },
     "metadata": {},
     "output_type": "display_data"
    },
    {
     "data": {
      "application/vnd.jupyter.widget-view+json": {
       "model_id": "de6ad6441d7345779e77bf90e7bc219b",
       "version_major": 2,
       "version_minor": 0
      },
      "text/plain": [
       "epoch 227 training :   0%|          | 0/390 [00:00<?, ?it/s]"
      ]
     },
     "metadata": {},
     "output_type": "display_data"
    },
    {
     "data": {
      "application/vnd.jupyter.widget-view+json": {
       "model_id": "2d09a7d4a6d047f5b2de0d8d552e0565",
       "version_major": 2,
       "version_minor": 0
      },
      "text/plain": [
       "epoch 227 validating :   0%|          | 0/79 [00:00<?, ?it/s]"
      ]
     },
     "metadata": {},
     "output_type": "display_data"
    },
    {
     "data": {
      "application/vnd.jupyter.widget-view+json": {
       "model_id": "3fcee067562c48399b30e9d658bac0e1",
       "version_major": 2,
       "version_minor": 0
      },
      "text/plain": [
       "epoch 228 training :   0%|          | 0/390 [00:00<?, ?it/s]"
      ]
     },
     "metadata": {},
     "output_type": "display_data"
    },
    {
     "data": {
      "application/vnd.jupyter.widget-view+json": {
       "model_id": "cf1eaddb786944b6b813963fe438eaf3",
       "version_major": 2,
       "version_minor": 0
      },
      "text/plain": [
       "epoch 228 validating :   0%|          | 0/79 [00:00<?, ?it/s]"
      ]
     },
     "metadata": {},
     "output_type": "display_data"
    },
    {
     "data": {
      "application/vnd.jupyter.widget-view+json": {
       "model_id": "75c4464ac8154223b755ab8937ccecf4",
       "version_major": 2,
       "version_minor": 0
      },
      "text/plain": [
       "epoch 229 training :   0%|          | 0/390 [00:00<?, ?it/s]"
      ]
     },
     "metadata": {},
     "output_type": "display_data"
    },
    {
     "data": {
      "application/vnd.jupyter.widget-view+json": {
       "model_id": "fa0584a604c649ae8cdd0daaf03a6797",
       "version_major": 2,
       "version_minor": 0
      },
      "text/plain": [
       "epoch 229 validating :   0%|          | 0/79 [00:00<?, ?it/s]"
      ]
     },
     "metadata": {},
     "output_type": "display_data"
    },
    {
     "data": {
      "application/vnd.jupyter.widget-view+json": {
       "model_id": "915dbb278b3f45dc8e1e78c89799081d",
       "version_major": 2,
       "version_minor": 0
      },
      "text/plain": [
       "epoch 230 training :   0%|          | 0/390 [00:00<?, ?it/s]"
      ]
     },
     "metadata": {},
     "output_type": "display_data"
    },
    {
     "data": {
      "application/vnd.jupyter.widget-view+json": {
       "model_id": "0b85ed4dcc2e477fb3c21d6a976b500d",
       "version_major": 2,
       "version_minor": 0
      },
      "text/plain": [
       "epoch 230 validating :   0%|          | 0/79 [00:00<?, ?it/s]"
      ]
     },
     "metadata": {},
     "output_type": "display_data"
    },
    {
     "name": "stdout",
     "output_type": "stream",
     "text": [
      "epoch_230.ckpt saved!\n"
     ]
    },
    {
     "data": {
      "application/vnd.jupyter.widget-view+json": {
       "model_id": "85f349f731b343eabcd6fa3d08ca3f47",
       "version_major": 2,
       "version_minor": 0
      },
      "text/plain": [
       "  0%|          | 0/28 [00:00<?, ?it/s]"
      ]
     },
     "metadata": {},
     "output_type": "display_data"
    },
    {
     "data": {
      "application/vnd.jupyter.widget-view+json": {
       "model_id": "37ad9ea4ebf24b31b3a19c7c82acfd9f",
       "version_major": 2,
       "version_minor": 0
      },
      "text/plain": [
       "epoch 231 training :   0%|          | 0/390 [00:00<?, ?it/s]"
      ]
     },
     "metadata": {},
     "output_type": "display_data"
    },
    {
     "data": {
      "application/vnd.jupyter.widget-view+json": {
       "model_id": "de399bf645ec43708c4fb53a79d7bb08",
       "version_major": 2,
       "version_minor": 0
      },
      "text/plain": [
       "epoch 231 validating :   0%|          | 0/79 [00:00<?, ?it/s]"
      ]
     },
     "metadata": {},
     "output_type": "display_data"
    },
    {
     "data": {
      "application/vnd.jupyter.widget-view+json": {
       "model_id": "220836aaabc54f22ba2223911c58201b",
       "version_major": 2,
       "version_minor": 0
      },
      "text/plain": [
       "epoch 232 training :   0%|          | 0/390 [00:00<?, ?it/s]"
      ]
     },
     "metadata": {},
     "output_type": "display_data"
    },
    {
     "data": {
      "application/vnd.jupyter.widget-view+json": {
       "model_id": "211b527f48bb40f4bdde51391ecb22c2",
       "version_major": 2,
       "version_minor": 0
      },
      "text/plain": [
       "epoch 232 validating :   0%|          | 0/79 [00:00<?, ?it/s]"
      ]
     },
     "metadata": {},
     "output_type": "display_data"
    },
    {
     "data": {
      "application/vnd.jupyter.widget-view+json": {
       "model_id": "50f8ce515e4b457aa210db2e97c41c88",
       "version_major": 2,
       "version_minor": 0
      },
      "text/plain": [
       "epoch 233 training :   0%|          | 0/390 [00:00<?, ?it/s]"
      ]
     },
     "metadata": {},
     "output_type": "display_data"
    },
    {
     "data": {
      "application/vnd.jupyter.widget-view+json": {
       "model_id": "5a9931a107394dccb6b3e4be35cee22b",
       "version_major": 2,
       "version_minor": 0
      },
      "text/plain": [
       "epoch 233 validating :   0%|          | 0/79 [00:00<?, ?it/s]"
      ]
     },
     "metadata": {},
     "output_type": "display_data"
    },
    {
     "data": {
      "application/vnd.jupyter.widget-view+json": {
       "model_id": "1dab7f6978384c89b8f17131e964e104",
       "version_major": 2,
       "version_minor": 0
      },
      "text/plain": [
       "epoch 234 training :   0%|          | 0/390 [00:00<?, ?it/s]"
      ]
     },
     "metadata": {},
     "output_type": "display_data"
    },
    {
     "data": {
      "application/vnd.jupyter.widget-view+json": {
       "model_id": "ebc30fff8c0543edaf1ecda1546e73d4",
       "version_major": 2,
       "version_minor": 0
      },
      "text/plain": [
       "epoch 234 validating :   0%|          | 0/79 [00:00<?, ?it/s]"
      ]
     },
     "metadata": {},
     "output_type": "display_data"
    },
    {
     "data": {
      "application/vnd.jupyter.widget-view+json": {
       "model_id": "3fc18420e376432ea9de5bb13ef73978",
       "version_major": 2,
       "version_minor": 0
      },
      "text/plain": [
       "epoch 235 training :   0%|          | 0/390 [00:00<?, ?it/s]"
      ]
     },
     "metadata": {},
     "output_type": "display_data"
    },
    {
     "data": {
      "application/vnd.jupyter.widget-view+json": {
       "model_id": "8e698ae262e74d699c55e6b404e80b1c",
       "version_major": 2,
       "version_minor": 0
      },
      "text/plain": [
       "epoch 235 validating :   0%|          | 0/79 [00:00<?, ?it/s]"
      ]
     },
     "metadata": {},
     "output_type": "display_data"
    },
    {
     "name": "stdout",
     "output_type": "stream",
     "text": [
      "epoch_235.ckpt saved!\n"
     ]
    },
    {
     "data": {
      "application/vnd.jupyter.widget-view+json": {
       "model_id": "fb2aade52bb240948aff80b0316c3e14",
       "version_major": 2,
       "version_minor": 0
      },
      "text/plain": [
       "  0%|          | 0/28 [00:00<?, ?it/s]"
      ]
     },
     "metadata": {},
     "output_type": "display_data"
    },
    {
     "data": {
      "application/vnd.jupyter.widget-view+json": {
       "model_id": "e281611dea0a4290996549946fe12ee8",
       "version_major": 2,
       "version_minor": 0
      },
      "text/plain": [
       "epoch 236 training :   0%|          | 0/390 [00:00<?, ?it/s]"
      ]
     },
     "metadata": {},
     "output_type": "display_data"
    },
    {
     "data": {
      "application/vnd.jupyter.widget-view+json": {
       "model_id": "9e8d75b18383417185e6be2ecb4dbefc",
       "version_major": 2,
       "version_minor": 0
      },
      "text/plain": [
       "epoch 236 validating :   0%|          | 0/79 [00:00<?, ?it/s]"
      ]
     },
     "metadata": {},
     "output_type": "display_data"
    },
    {
     "data": {
      "application/vnd.jupyter.widget-view+json": {
       "model_id": "8fb3fcdbf29e4797a8f02eb73664e949",
       "version_major": 2,
       "version_minor": 0
      },
      "text/plain": [
       "epoch 237 training :   0%|          | 0/390 [00:00<?, ?it/s]"
      ]
     },
     "metadata": {},
     "output_type": "display_data"
    },
    {
     "data": {
      "application/vnd.jupyter.widget-view+json": {
       "model_id": "389ac9fb115244779a5683283f4d5807",
       "version_major": 2,
       "version_minor": 0
      },
      "text/plain": [
       "epoch 237 validating :   0%|          | 0/79 [00:00<?, ?it/s]"
      ]
     },
     "metadata": {},
     "output_type": "display_data"
    },
    {
     "data": {
      "application/vnd.jupyter.widget-view+json": {
       "model_id": "3f33a9d02fa645c8b03cc90675fa0904",
       "version_major": 2,
       "version_minor": 0
      },
      "text/plain": [
       "epoch 238 training :   0%|          | 0/390 [00:00<?, ?it/s]"
      ]
     },
     "metadata": {},
     "output_type": "display_data"
    },
    {
     "data": {
      "application/vnd.jupyter.widget-view+json": {
       "model_id": "a45a92c575ca40b2a4fe3521e889f3cd",
       "version_major": 2,
       "version_minor": 0
      },
      "text/plain": [
       "epoch 238 validating :   0%|          | 0/79 [00:00<?, ?it/s]"
      ]
     },
     "metadata": {},
     "output_type": "display_data"
    },
    {
     "data": {
      "application/vnd.jupyter.widget-view+json": {
       "model_id": "b854b14ad1714897980b6c3d87e5135b",
       "version_major": 2,
       "version_minor": 0
      },
      "text/plain": [
       "epoch 239 training :   0%|          | 0/390 [00:00<?, ?it/s]"
      ]
     },
     "metadata": {},
     "output_type": "display_data"
    },
    {
     "data": {
      "application/vnd.jupyter.widget-view+json": {
       "model_id": "adc615617861490eb11d0d3c3ed5b344",
       "version_major": 2,
       "version_minor": 0
      },
      "text/plain": [
       "epoch 239 validating :   0%|          | 0/79 [00:00<?, ?it/s]"
      ]
     },
     "metadata": {},
     "output_type": "display_data"
    },
    {
     "data": {
      "application/vnd.jupyter.widget-view+json": {
       "model_id": "fc95962dbb10489a8cc932b46004eb6f",
       "version_major": 2,
       "version_minor": 0
      },
      "text/plain": [
       "epoch 240 training :   0%|          | 0/390 [00:00<?, ?it/s]"
      ]
     },
     "metadata": {},
     "output_type": "display_data"
    },
    {
     "data": {
      "application/vnd.jupyter.widget-view+json": {
       "model_id": "44f9aedf9e0d487bb99c96293d8e1eff",
       "version_major": 2,
       "version_minor": 0
      },
      "text/plain": [
       "epoch 240 validating :   0%|          | 0/79 [00:00<?, ?it/s]"
      ]
     },
     "metadata": {},
     "output_type": "display_data"
    },
    {
     "name": "stdout",
     "output_type": "stream",
     "text": [
      "epoch_240.ckpt saved!\n"
     ]
    },
    {
     "data": {
      "application/vnd.jupyter.widget-view+json": {
       "model_id": "bbeb8ecfeac04ad3884443020ca26711",
       "version_major": 2,
       "version_minor": 0
      },
      "text/plain": [
       "  0%|          | 0/28 [00:00<?, ?it/s]"
      ]
     },
     "metadata": {},
     "output_type": "display_data"
    },
    {
     "data": {
      "application/vnd.jupyter.widget-view+json": {
       "model_id": "6e9973c909cc457ca0d7bf8ad62ac8a0",
       "version_major": 2,
       "version_minor": 0
      },
      "text/plain": [
       "epoch 241 training :   0%|          | 0/390 [00:00<?, ?it/s]"
      ]
     },
     "metadata": {},
     "output_type": "display_data"
    },
    {
     "data": {
      "application/vnd.jupyter.widget-view+json": {
       "model_id": "be1c76e1f23048c5a192a15b4864a305",
       "version_major": 2,
       "version_minor": 0
      },
      "text/plain": [
       "epoch 241 validating :   0%|          | 0/79 [00:00<?, ?it/s]"
      ]
     },
     "metadata": {},
     "output_type": "display_data"
    },
    {
     "data": {
      "application/vnd.jupyter.widget-view+json": {
       "model_id": "d559db9c799d4c7bb218e8ca6e7db946",
       "version_major": 2,
       "version_minor": 0
      },
      "text/plain": [
       "epoch 242 training :   0%|          | 0/390 [00:00<?, ?it/s]"
      ]
     },
     "metadata": {},
     "output_type": "display_data"
    },
    {
     "data": {
      "application/vnd.jupyter.widget-view+json": {
       "model_id": "76aeadddc046453ba9aef450f98d6d26",
       "version_major": 2,
       "version_minor": 0
      },
      "text/plain": [
       "epoch 242 validating :   0%|          | 0/79 [00:00<?, ?it/s]"
      ]
     },
     "metadata": {},
     "output_type": "display_data"
    },
    {
     "data": {
      "application/vnd.jupyter.widget-view+json": {
       "model_id": "f3e860a6b1cf438d92a0cad8931f8a90",
       "version_major": 2,
       "version_minor": 0
      },
      "text/plain": [
       "epoch 243 training :   0%|          | 0/390 [00:00<?, ?it/s]"
      ]
     },
     "metadata": {},
     "output_type": "display_data"
    },
    {
     "data": {
      "application/vnd.jupyter.widget-view+json": {
       "model_id": "192a57a51b174e3198f0586a0a8fba74",
       "version_major": 2,
       "version_minor": 0
      },
      "text/plain": [
       "epoch 243 validating :   0%|          | 0/79 [00:00<?, ?it/s]"
      ]
     },
     "metadata": {},
     "output_type": "display_data"
    },
    {
     "data": {
      "application/vnd.jupyter.widget-view+json": {
       "model_id": "90f23395178e453c863a2cf9a2991680",
       "version_major": 2,
       "version_minor": 0
      },
      "text/plain": [
       "epoch 244 training :   0%|          | 0/390 [00:00<?, ?it/s]"
      ]
     },
     "metadata": {},
     "output_type": "display_data"
    },
    {
     "data": {
      "application/vnd.jupyter.widget-view+json": {
       "model_id": "2b89da8505004d4b91c6f78d5da3584d",
       "version_major": 2,
       "version_minor": 0
      },
      "text/plain": [
       "epoch 244 validating :   0%|          | 0/79 [00:00<?, ?it/s]"
      ]
     },
     "metadata": {},
     "output_type": "display_data"
    },
    {
     "data": {
      "application/vnd.jupyter.widget-view+json": {
       "model_id": "66a238d5622f4ff296af07f8198a7898",
       "version_major": 2,
       "version_minor": 0
      },
      "text/plain": [
       "epoch 245 training :   0%|          | 0/390 [00:00<?, ?it/s]"
      ]
     },
     "metadata": {},
     "output_type": "display_data"
    },
    {
     "data": {
      "application/vnd.jupyter.widget-view+json": {
       "model_id": "c766eb4f67ac4e2ab46fdaf486c7c973",
       "version_major": 2,
       "version_minor": 0
      },
      "text/plain": [
       "epoch 245 validating :   0%|          | 0/79 [00:00<?, ?it/s]"
      ]
     },
     "metadata": {},
     "output_type": "display_data"
    },
    {
     "name": "stdout",
     "output_type": "stream",
     "text": [
      "epoch_245.ckpt saved!\n"
     ]
    },
    {
     "data": {
      "application/vnd.jupyter.widget-view+json": {
       "model_id": "69d44123baa0413fb68a9a7dc80e163c",
       "version_major": 2,
       "version_minor": 0
      },
      "text/plain": [
       "  0%|          | 0/28 [00:00<?, ?it/s]"
      ]
     },
     "metadata": {},
     "output_type": "display_data"
    }
   ],
   "source": [
    "PixelCNN_model = PixelCNN(c_in=1, c_hidden=64)\n",
    "PixelCNN_model = PixelCNN_model.to(device)\n",
    "optimizer = optim.Adam(PixelCNN_model.parameters(), lr=Learning_rate)\n",
    "loss_fn = Loss_fn()\n",
    "loss_fn = loss_fn.to(device)\n",
    "start_epoch = -1\n",
    "\n",
    "\n",
    "if not os.path.isdir(os.path.join(LOG_PATH, Train_tag)):\n",
    "        os.mkdir(os.path.join(LOG_PATH, Train_tag))\n",
    "writer = SummaryWriter(os.path.join(LOG_PATH, Train_tag))\n",
    "if not os.path.isdir(os.path.join(CHECKPOINT_PATH, Train_tag)):\n",
    "        os.mkdir(os.path.join(CHECKPOINT_PATH, Train_tag))\n",
    "\n",
    "# if resume from previous checkpoints\n",
    "if Resume_from_checkpoint:\n",
    "    path_checkpoint = RESUME_PATH\n",
    "    checkpoint = torch.load(path_checkpoint)  \n",
    "    PixelCNN_model.load_state_dict(checkpoint['net']) \n",
    "    # optimizer.load_state_dict(checkpoint['optimizer']) \n",
    "    start_epoch = checkpoint['epoch']\n",
    "    print(\"checkpoint {} successfully resumed. starting from epoch {}\".format(RESUME_PATH, start_epoch+1))\n",
    "\n",
    "epoch = start_epoch\n",
    "train_iter = 0\n",
    "validation_iter = 0\n",
    "best_mean_loss = 100.0\n",
    "for epoch_iter in range(Max_epoch):\n",
    "    epoch = epoch + 1\n",
    "    mean_loss = 0.0\n",
    "    \n",
    "    # train\n",
    "    for imgs, _ in tqdm(train_loader, desc=\"epoch {} training \".format(epoch), leave=False):\n",
    "        imgs = imgs.to(device)\n",
    "        outputs = PixelCNN_model(imgs)\n",
    "        loss = loss_fn(outputs, imgs)\n",
    "        writer.add_scalar(\"training_loss\", loss.item(), train_iter)\n",
    "        train_iter += 1 \n",
    "        \n",
    "        optimizer.zero_grad()\n",
    "        loss.backward()\n",
    "        optimizer.step()\n",
    "    \n",
    "    # validation\n",
    "    with torch.no_grad():\n",
    "        total_loss = 0.0\n",
    "        validation_img_num = 0\n",
    "        for imgs, _ in tqdm(val_loader, desc=\"epoch {} validating \".format(epoch), leave=False):\n",
    "            imgs = imgs.to(device)\n",
    "            outputs = PixelCNN_model(imgs)\n",
    "            loss = loss_fn(outputs, imgs)\n",
    "            total_loss += loss.item()\n",
    "            validation_img_num += 1\n",
    "            writer.add_scalar(\"validation_loss\", loss.item(), validation_iter) \n",
    "            validation_iter += 1\n",
    "        mean_loss = total_loss / validation_img_num\n",
    "        writer.add_scalar(\"validation_loss_mean\", mean_loss, epoch) \n",
    "    \n",
    "    # save checkpoint every 5 epochs\n",
    "    if(epoch%5==0):\n",
    "        checkpoint = {\n",
    "            \"net\": PixelCNN_model.state_dict(),\n",
    "            \"optimizer\":optimizer.state_dict(),\n",
    "            \"epoch\": epoch \n",
    "        }\n",
    "        torch.save(checkpoint, os.path.join(os.path.join(CHECKPOINT_PATH, Train_tag), \"epoch_{}.ckpt\".format(epoch)))\n",
    "        print(\"epoch_{}.ckpt saved!\".format(epoch))\n",
    "        samples = PixelCNN_model.sample(img_shape=(16,1,28,56)).cpu()\n",
    "        writer.add_images(\"generated_DFT_sample\", samples, epoch, dataformats=\"NCHW\")\n",
    "        restored_imgs = torch.zeros((samples.shape[0], samples.shape[1], samples.shape[2], samples.shape[3]//2))\n",
    "        for i in range(restored_imgs.shape[0]):\n",
    "            restored_imgs[i] = torch.tensor(inverse_DFT_transform(samples[i]))\n",
    "        writer.add_images(\"restored_imgs\", restored_imgs, epoch, dataformats=\"NCHW\")\n",
    "        \n",
    "    # save the best model\n",
    "    if(mean_loss < best_mean_loss):\n",
    "        checkpoint = {\n",
    "            \"net\": PixelCNN_model.state_dict(),\n",
    "            \"optimizer\":optimizer.state_dict(),\n",
    "            \"epoch\": epoch \n",
    "        }\n",
    "        torch.save(checkpoint, os.path.join(os.path.join(CHECKPOINT_PATH, Train_tag), \"best_epoch_{}_loss_{}.ckpt\".format(epoch, mean_loss)))\n",
    "        print(\"best_epoch_{}_loss_{}.ckpt\".format(epoch, mean_loss))\n",
    "        samples = PixelCNN_model.sample(img_shape=(16,1,28,56)).cpu()\n",
    "        restored_imgs = torch.zeros((samples.shape[0], samples.shape[1], samples.shape[2], samples.shape[3]//2))\n",
    "        for i in range(restored_imgs.shape[0]):\n",
    "            restored_imgs[i] = torch.tensor(inverse_DFT_transform(samples[i]))\n",
    "        writer.add_images(\"restored_imgs_for_best_model\", restored_imgs, epoch, dataformats=\"NCHW\")\n",
    "\n",
    "# save the last model\n",
    "if(epoch%5!=0):\n",
    "    checkpoint = {\n",
    "        \"net\": PixelCNN_model.state_dict(),\n",
    "        \"optimizer\":optimizer.state_dict(),\n",
    "        \"epoch\": epoch \n",
    "    }\n",
    "    torch.save(checkpoint, os.path.join(os.path.join(CHECKPOINT_PATH, Train_tag), \"epoch_{}.ckpt\".format(epoch)))\n",
    "    print(\"epoch_{}.ckpt saved!\".format(epoch))\n",
    "    samples = PixelCNN_model.sample(img_shape=(16,1,28,56)).cpu()\n",
    "    writer.add_images(\"generated_DFT_sample\", samples, epoch, dataformats=\"NCHW\")\n",
    "    restored_imgs = torch.zeros((samples.shape[0], samples.shape[1], samples.shape[2], samples.shape[3]//2))\n",
    "    for i in range(restored_imgs.shape[0]):\n",
    "        restored_imgs[i] = torch.tensor(inverse_DFT_transform(samples[i]))\n",
    "    writer.add_images(\"restored_imgs\", restored_imgs, epoch, dataformats=\"NCHW\")\n",
    "    \n",
    "    "
   ]
  }
 ],
 "metadata": {
  "kernelspec": {
   "display_name": "Python 3",
   "language": "python",
   "name": "python3"
  },
  "language_info": {
   "codemirror_mode": {
    "name": "ipython",
    "version": 3
   },
   "file_extension": ".py",
   "mimetype": "text/x-python",
   "name": "python",
   "nbconvert_exporter": "python",
   "pygments_lexer": "ipython3",
   "version": "3.10.7"
  }
 },
 "nbformat": 4,
 "nbformat_minor": 2
}
