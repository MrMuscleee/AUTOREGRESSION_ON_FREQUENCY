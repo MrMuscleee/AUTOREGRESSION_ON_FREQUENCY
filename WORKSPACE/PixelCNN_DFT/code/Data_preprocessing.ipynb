{
 "cells": [
  {
   "cell_type": "markdown",
   "metadata": {},
   "source": [
    "Libraries"
   ]
  },
  {
   "cell_type": "code",
   "execution_count": 54,
   "metadata": {},
   "outputs": [],
   "source": [
    "## Standard libraries\n",
    "import os\n",
    "import math\n",
    "import numpy as np\n",
    "import time\n",
    "import matplotlib.pyplot as plt\n",
    "import numpy.fft as fft\n",
    "import cv2\n",
    "from PIL import Image\n",
    "\n",
    "## PyTorch\n",
    "import torch\n",
    "import torch.nn as nn\n",
    "import torch.nn.functional as F\n",
    "import torch.utils.data as data\n",
    "import torch.optim as optim\n",
    "from torch.utils.tensorboard import SummaryWriter\n",
    "\n",
    "#3 Torchvision\n",
    "import torchvision\n",
    "from torchvision.datasets import MNIST\n",
    "from torchvision import transforms\n",
    "\n",
    "## Progress bar\n",
    "from tqdm.notebook import tqdm\n"
   ]
  },
  {
   "cell_type": "markdown",
   "metadata": {},
   "source": [
    "Constants"
   ]
  },
  {
   "cell_type": "code",
   "execution_count": 55,
   "metadata": {},
   "outputs": [
    {
     "name": "stdout",
     "output_type": "stream",
     "text": [
      "Using device cuda:0\n"
     ]
    }
   ],
   "source": [
    "# Path to the folder where the datasets are stored\n",
    "DATASET_PATH = \"../data\"\n",
    "# Fetching the device\n",
    "device = torch.device(\"cpu\") if not torch.cuda.is_available() else torch.device(\"cuda:0\")\n",
    "print(\"Using device\", device)"
   ]
  },
  {
   "cell_type": "markdown",
   "metadata": {},
   "source": [
    "Define DFT transform"
   ]
  },
  {
   "cell_type": "code",
   "execution_count": 56,
   "metadata": {},
   "outputs": [],
   "source": [
    "#helper functions\n",
    "def get_centered_dft(img):\n",
    "    dft = np.fft.fft2(img)\n",
    "    centered_dft = np.fft.fftshift(dft)\n",
    "    return centered_dft\n",
    "\n",
    "def restore_img_from_centered_dft(centered_dft):\n",
    "    dft = np.fft.fftshift(centered_dft)\n",
    "    img = np.fft.ifft2(dft)\n",
    "    return img\n",
    "\n",
    "def flat_transform(dft):\n",
    "    real = dft.real\n",
    "    imag = dft.imag\n",
    "    H, W = dft.shape\n",
    "    flat_dft = np.zeros((H, 2 * W))\n",
    "    flat_dft[:, ::2] = real\n",
    "    flat_dft[:, 1::2] = imag\n",
    "    return flat_dft\n",
    "\n",
    "def inverse_flat_transform(flat_dft):\n",
    "    real = flat_dft[:, ::2]\n",
    "    imag = flat_dft[:, 1::2]\n",
    "    dft = np.vectorize(complex)(real, imag)\n",
    "    return dft\n",
    "    \n",
    "\n",
    "def show_centered_dft(centered_dft):\n",
    "    figures_dft_phase = np.angle(centered_dft)\n",
    "    figures_dft_magnitude = np.abs(centered_dft)\n",
    "    figures_dft_log_magnitude = np.log10(figures_dft_magnitude)\n",
    "\n",
    "    phase_stretched = (figures_dft_phase - np.min(figures_dft_phase)) / (np.max(figures_dft_phase) - np.min(figures_dft_phase))\n",
    "    log_magnitude_stretched = (figures_dft_log_magnitude - np.min(figures_dft_log_magnitude)) / (np.max(figures_dft_log_magnitude) - np.min(figures_dft_log_magnitude))\n",
    "\n",
    "    fig, axs = plt.subplots(1, 2)\n",
    "    axs[0].imshow(phase_stretched, cmap='gray')\n",
    "    axs[0].set_title('Phase Component')\n",
    "    axs[1].imshow(log_magnitude_stretched, cmap='gray')\n",
    "    axs[1].set_title('Logarithm of Magnitude Component')\n",
    "    plt.show()\n",
    "\n",
    "def center_transform(image):\n",
    "    h, w = image.shape[:2]\n",
    "    n = min(h * w, min(h, w) ** 2)\n",
    "    center = (h - 1) // 2, (w - 1) // 2\n",
    "    indices = [(i, j) for i in range(h) for j in range(w)]\n",
    "    original_indices = [(i, j) for i in range(h) for j in range(w)]\n",
    "    indices.sort(key=lambda x: (x[0] - center[0]) ** 2 + (x[1] - center[1]) ** 2)\n",
    "    indices = indices[:n]\n",
    "    new_image = np.zeros_like(image)\n",
    "    for i in range(n):\n",
    "        new_image[original_indices[i]] = image[indices[i]]\n",
    "    return new_image\n",
    "\n",
    "def inverse_center_transform(image):\n",
    "    h, w = image.shape[:2]\n",
    "    n = min(h * w, min(h, w) ** 2)\n",
    "    center = (h - 1) // 2, (w - 1) // 2\n",
    "    indices = [(i, j) for i in range(h) for j in range(w)]\n",
    "    original_indices = [(i, j) for i in range(h) for j in range(w)]\n",
    "    indices.sort(key=lambda x: (x[0] - center[0]) ** 2 + (x[1] - center[1]) ** 2)\n",
    "    indices = indices[:n]\n",
    "    new_image = np.zeros_like(image)\n",
    "    for i in range(n):\n",
    "        new_image[indices[i]] = image[original_indices[i]]\n",
    "    return new_image\n",
    "\n",
    "def DFT_transform(img):\n",
    "    result = torch.zeros((img.shape[0], img.shape[1], img.shape[2]*2))\n",
    "    for i in range(result.shape[0]): # for every channel\n",
    "        temp = img[i]\n",
    "        temp = get_centered_dft(temp)\n",
    "        temp = center_transform(temp)\n",
    "        temp = flat_transform(temp)\n",
    "        result[i] = torch.Tensor(temp)\n",
    "    return result\n",
    "\n",
    "def inverse_DFT_transform(img):\n",
    "    result = torch.zeros((img.shape[0], img.shape[1], img.shape[2]*2))\n",
    "    for i in range(result.shape[0]): # for every channel\n",
    "        temp = img[i]\n",
    "        temp = inverse_flat_transform(img)\n",
    "        temp = inverse_center_transform(temp)\n",
    "        temp = restore_img_from_centered_dft(temp)\n",
    "        result[i] = torch.tensor(temp)\n",
    "    return result.real"
   ]
  },
  {
   "cell_type": "markdown",
   "metadata": {},
   "source": [
    "Create DFT data"
   ]
  },
  {
   "cell_type": "code",
   "execution_count": 57,
   "metadata": {},
   "outputs": [],
   "source": [
    "# Convert images from 0-1 to 0-255 (integers). We use the long datatype as we will use the images as labels as well\n",
    "def discretize(sample):\n",
    "    return (sample * 255).to(torch.long)\n",
    "\n",
    "# Transformations applied on each image => only make them a tensor\n",
    "transform = transforms.Compose([transforms.ToTensor(),\n",
    "                                discretize])\n",
    "\n",
    "# Loading the training dataset.\n",
    "train_dataset = MNIST(root=DATASET_PATH, train=True, transform=transform, download=True)\n",
    "\n",
    "# Loading the test set\n",
    "test_set = MNIST(root=DATASET_PATH, train=False, transform=transform, download=True)\n",
    "\n",
    "# Get the whole dataset\n",
    "whole_dataset = train_dataset + test_set\n",
    "\n",
    "# We define a set of data loaders that we can use for various purposes later.\n",
    "# train_loader = data.DataLoader(train_dataset, batch_size=128, shuffle=True, drop_last=True, pin_memory=True, num_workers=0)\n",
    "# test_loader = data.DataLoader(test_set, batch_size=128, shuffle=False, drop_last=False, num_workers=0)"
   ]
  },
  {
   "cell_type": "code",
   "execution_count": 58,
   "metadata": {},
   "outputs": [
    {
     "data": {
      "application/vnd.jupyter.widget-view+json": {
       "model_id": "b6890a92d2ae41e5bee643b48734cd73",
       "version_major": 2,
       "version_minor": 0
      },
      "text/plain": [
       "  0%|          | 0/70000 [00:00<?, ?it/s]"
      ]
     },
     "metadata": {},
     "output_type": "display_data"
    },
    {
     "name": "stdout",
     "output_type": "stream",
     "text": [
      "Original DFT max value: 79483.0\n",
      "Original DFT min value: -40394.43359375\n"
     ]
    }
   ],
   "source": [
    "Origin_max_value = 0\n",
    "Origin_min_value = 0\n",
    "\n",
    "for img, _ in tqdm(whole_dataset):\n",
    "    img_DFT = DFT_transform(img)\n",
    "    if img_DFT.max().item() > Origin_max_value:\n",
    "        Origin_max_value = img_DFT.max().item()\n",
    "    if img_DFT.min().item() < Origin_min_value:\n",
    "        Origin_min_value = img_DFT.min().item()\n",
    "        \n",
    "print(\"Original DFT max value: {}\".format(Origin_max_value))\n",
    "print(\"Original DFT min value: {}\".format(Origin_min_value))"
   ]
  },
  {
   "cell_type": "code",
   "execution_count": 59,
   "metadata": {},
   "outputs": [
    {
     "data": {
      "application/vnd.jupyter.widget-view+json": {
       "model_id": "0cd2fe5d828042a68403935f400eb7e5",
       "version_major": 2,
       "version_minor": 0
      },
      "text/plain": [
       "generating train dataset:   0%|          | 0/60000 [00:00<?, ?it/s]"
      ]
     },
     "metadata": {},
     "output_type": "display_data"
    },
    {
     "data": {
      "application/vnd.jupyter.widget-view+json": {
       "model_id": "6a30caae27bc473890c9d2870763dcf0",
       "version_major": 2,
       "version_minor": 0
      },
      "text/plain": [
       "generating test dataset:   0%|          | 0/10000 [00:00<?, ?it/s]"
      ]
     },
     "metadata": {},
     "output_type": "display_data"
    }
   ],
   "source": [
    "train_data_path = \"../data/MNIST_DFT/train\"\n",
    "test_data_path = \"../data/MNIST_DFT/test\"\n",
    "idx = -1\n",
    "\n",
    "for img, tag in tqdm(train_dataset, desc= \"generating train dataset\"):\n",
    "    idx += 1\n",
    "    img_DFT = DFT_transform(img)\n",
    "    img_DFT = ((img_DFT - Origin_min_value) * 256 / (Origin_max_value - Origin_min_value)).to(torch.uint8)\n",
    "    img_DFT_rgb = torch.cat([img_DFT] * 3, dim=0)\n",
    "    hwc_array = np.transpose(img_DFT_rgb.numpy(), (1,2,0))\n",
    "    image = Image.fromarray(hwc_array)\n",
    "    img_path = os.path.join(train_data_path, \"train_id{}_tag{}.jpg\".format(idx, tag))\n",
    "    image.save(img_path)\n",
    "\n",
    "for img, tag in tqdm(test_set, desc= \"generating test dataset\"):\n",
    "    idx += 1\n",
    "    img_DFT = DFT_transform(img)\n",
    "    img_DFT = ((img_DFT - Origin_min_value) * 256 / (Origin_max_value - Origin_min_value)).to(torch.uint8)\n",
    "    img_DFT_rgb = torch.cat([img_DFT] * 3, dim=0)\n",
    "    hwc_array = np.transpose(img_DFT_rgb.numpy(), (1,2,0))\n",
    "    image = Image.fromarray(hwc_array)\n",
    "    img_path = os.path.join(test_data_path, \"test_id{}_tag{}.jpg\".format(idx, tag))\n",
    "    image.save(img_path)\n"
   ]
  }
 ],
 "metadata": {
  "kernelspec": {
   "display_name": "Python 3",
   "language": "python",
   "name": "python3"
  },
  "language_info": {
   "codemirror_mode": {
    "name": "ipython",
    "version": 3
   },
   "file_extension": ".py",
   "mimetype": "text/x-python",
   "name": "python",
   "nbconvert_exporter": "python",
   "pygments_lexer": "ipython3",
   "version": "3.10.7"
  }
 },
 "nbformat": 4,
 "nbformat_minor": 2
}
