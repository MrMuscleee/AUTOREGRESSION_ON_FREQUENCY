{
 "cells": [
  {
   "cell_type": "markdown",
   "metadata": {},
   "source": [
    "Libraries"
   ]
  },
  {
   "cell_type": "code",
   "execution_count": 58,
   "metadata": {},
   "outputs": [],
   "source": [
    "\n",
    "## Standard libraries\n",
    "import os\n",
    "import math\n",
    "import numpy as np\n",
    "import time\n",
    "\n",
    "## PyTorch\n",
    "import torch\n",
    "import torch.nn as nn\n",
    "import torch.nn.functional as F\n",
    "import torch.utils.data as data\n",
    "import torch.optim as optim\n",
    "from torch.utils.tensorboard import SummaryWriter\n",
    "\n",
    "# Torchvision\n",
    "import torchvision\n",
    "from torchvision.datasets import MNIST\n",
    "from torchvision import transforms\n",
    "\n",
    "## Progress bar\n",
    "from tqdm.notebook import tqdm\n"
   ]
  },
  {
   "cell_type": "markdown",
   "metadata": {},
   "source": [
    "Constants"
   ]
  },
  {
   "cell_type": "code",
   "execution_count": 59,
   "metadata": {},
   "outputs": [
    {
     "name": "stdout",
     "output_type": "stream",
     "text": [
      "Using device cpu\n"
     ]
    }
   ],
   "source": [
    "# Training tag\n",
    "Train_tag = \"first_attempt\"\n",
    "# Whether or not start training from previous checkpoints\n",
    "Resume_from_checkpoint = False\n",
    "# Path to the folder where the datasets are stored\n",
    "DATASET_PATH = \"../data\"\n",
    "# Path to the folder where the checkpoints are saved\n",
    "CHECKPOINT_PATH = \"../checkpoints\"\n",
    "# Path to the folder where the training logs are saved\n",
    "LOG_PATH = \"../tensorboard_log\"\n",
    "# Fetching the device\n",
    "device = torch.device(\"cpu\") if not torch.cuda.is_available() else torch.device(\"cuda:0\")\n",
    "print(\"Using device\", device)\n",
    "# Learning rate\n",
    "Learning_rate = 1e-3\n",
    "# Max epoch\n",
    "Max_epoch = 41"
   ]
  },
  {
   "cell_type": "markdown",
   "metadata": {},
   "source": [
    "Data"
   ]
  },
  {
   "cell_type": "code",
   "execution_count": 60,
   "metadata": {},
   "outputs": [],
   "source": [
    "# Convert images from 0-1 to 0-255 (integers). We use the long datatype as we will use the images as labels as well\n",
    "def discretize(sample):\n",
    "    return (sample * 255).to(torch.long)\n",
    "\n",
    "# Transformations applied on each image => only make them a tensor\n",
    "transform = transforms.Compose([transforms.ToTensor(),\n",
    "                                discretize])\n",
    "\n",
    "# Loading the training dataset. We need to split it into a training and validation part\n",
    "train_dataset = MNIST(root=DATASET_PATH, train=True, transform=transform, download=True)\n",
    "train_set, val_set = torch.utils.data.random_split(train_dataset, [50000, 10000])\n",
    "\n",
    "# Loading the test set\n",
    "test_set = MNIST(root=DATASET_PATH, train=False, transform=transform, download=True)\n",
    "\n",
    "# We define a set of data loaders that we can use for various purposes later.\n",
    "train_loader = data.DataLoader(train_set, batch_size=128, shuffle=True, drop_last=True, pin_memory=True, num_workers=0)\n",
    "val_loader = data.DataLoader(val_set, batch_size=128, shuffle=False, drop_last=False, num_workers=0)\n",
    "test_loader = data.DataLoader(test_set, batch_size=128, shuffle=False, drop_last=False, num_workers=0)"
   ]
  },
  {
   "cell_type": "code",
   "execution_count": 61,
   "metadata": {},
   "outputs": [
    {
     "name": "stdout",
     "output_type": "stream",
     "text": [
      "torch.Size([128, 1, 28, 28])\n",
      "torch.Size([128])\n"
     ]
    }
   ],
   "source": [
    "first = True\n",
    "for data in train_loader:\n",
    "    if(first):\n",
    "        imgs, tag = data\n",
    "        print(imgs.shape)\n",
    "        print(tag.shape)\n",
    "        first = False"
   ]
  },
  {
   "cell_type": "markdown",
   "metadata": {},
   "source": [
    "Network Definition"
   ]
  },
  {
   "cell_type": "code",
   "execution_count": 62,
   "metadata": {},
   "outputs": [],
   "source": [
    "class MaskedConvolution(nn.Module):\n",
    "\n",
    "    def __init__(self, c_in, c_out, mask, **kwargs):\n",
    "        \"\"\"\n",
    "        Implements a convolution with mask applied on its weights.\n",
    "        Inputs:\n",
    "            c_in - Number of input channels\n",
    "            c_out - Number of output channels\n",
    "            mask - Tensor of shape [kernel_size_H, kernel_size_W] with 0s where\n",
    "                   the convolution should be masked, and 1s otherwise.\n",
    "            kwargs - Additional arguments for the convolution\n",
    "        \"\"\"\n",
    "        super().__init__()\n",
    "        # For simplicity: calculate padding automatically\n",
    "        kernel_size = (mask.shape[0], mask.shape[1])\n",
    "        dilation = 1 if \"dilation\" not in kwargs else kwargs[\"dilation\"]\n",
    "        padding = tuple([dilation*(kernel_size[i]-1)//2 for i in range(2)])\n",
    "        # Actual convolution\n",
    "        self.conv = nn.Conv2d(c_in, c_out, kernel_size, padding=padding, **kwargs)\n",
    "\n",
    "        # Mask as buffer => it is no parameter but still a tensor of the module\n",
    "        # (must be moved with the devices)\n",
    "        self.register_buffer('mask', mask[None,None])\n",
    "\n",
    "    def forward(self, x):\n",
    "        self.conv.weight.data *= self.mask # Ensures zero's at masked positions\n",
    "        return self.conv(x)"
   ]
  },
  {
   "cell_type": "code",
   "execution_count": 63,
   "metadata": {},
   "outputs": [],
   "source": [
    "class VerticalStackConvolution(MaskedConvolution):\n",
    "\n",
    "    def __init__(self, c_in, c_out, kernel_size=3, mask_center=False, **kwargs):\n",
    "        # Mask out all pixels below. For efficiency, we could also reduce the kernel\n",
    "        # size in height, but for simplicity, we stick with masking here.\n",
    "        mask = torch.ones(kernel_size, kernel_size)\n",
    "        mask[kernel_size//2+1:,:] = 0\n",
    "\n",
    "        # For the very first convolution, we will also mask the center row\n",
    "        if mask_center:\n",
    "            mask[kernel_size//2,:] = 0\n",
    "\n",
    "        super().__init__(c_in, c_out, mask, **kwargs)\n",
    "\n",
    "class HorizontalStackConvolution(MaskedConvolution):\n",
    "\n",
    "    def __init__(self, c_in, c_out, kernel_size=3, mask_center=False, **kwargs):\n",
    "        # Mask out all pixels on the left. Note that our kernel has a size of 1\n",
    "        # in height because we only look at the pixel in the same row.\n",
    "        mask = torch.ones(1,kernel_size)\n",
    "        mask[0,kernel_size//2+1:] = 0\n",
    "\n",
    "        # For the very first convolution, we will also mask the center pixel\n",
    "        if mask_center:\n",
    "            mask[0,kernel_size//2] = 0\n",
    "\n",
    "        super().__init__(c_in, c_out, mask, **kwargs)"
   ]
  },
  {
   "cell_type": "code",
   "execution_count": 64,
   "metadata": {},
   "outputs": [],
   "source": [
    "class GatedMaskedConv(nn.Module):\n",
    "\n",
    "    def __init__(self, c_in, **kwargs):\n",
    "        \"\"\"\n",
    "        Gated Convolution block implemented the computation graph shown above.\n",
    "        \"\"\"\n",
    "        super().__init__()\n",
    "        self.conv_vert = VerticalStackConvolution(c_in, c_out=2*c_in, **kwargs)\n",
    "        self.conv_horiz = HorizontalStackConvolution(c_in, c_out=2*c_in, **kwargs)\n",
    "        self.conv_vert_to_horiz = nn.Conv2d(2*c_in, 2*c_in, kernel_size=1, padding=0)\n",
    "        self.conv_horiz_1x1 = nn.Conv2d(c_in, c_in, kernel_size=1, padding=0)\n",
    "\n",
    "    def forward(self, v_stack, h_stack):\n",
    "        # Vertical stack (left)\n",
    "        v_stack_feat = self.conv_vert(v_stack)\n",
    "        v_val, v_gate = v_stack_feat.chunk(2, dim=1)\n",
    "        v_stack_out = torch.tanh(v_val) * torch.sigmoid(v_gate)\n",
    "\n",
    "        # Horizontal stack (right)\n",
    "        h_stack_feat = self.conv_horiz(h_stack)\n",
    "        h_stack_feat = h_stack_feat + self.conv_vert_to_horiz(v_stack_feat)\n",
    "        h_val, h_gate = h_stack_feat.chunk(2, dim=1)\n",
    "        h_stack_feat = torch.tanh(h_val) * torch.sigmoid(h_gate)\n",
    "        h_stack_out = self.conv_horiz_1x1(h_stack_feat)\n",
    "        h_stack_out = h_stack_out + h_stack\n",
    "\n",
    "        return v_stack_out, h_stack_out"
   ]
  },
  {
   "cell_type": "code",
   "execution_count": 65,
   "metadata": {},
   "outputs": [],
   "source": [
    "class PixelCNN(nn.Module):\n",
    "\n",
    "    def __init__(self, c_in, c_hidden):\n",
    "        super().__init__()\n",
    "        # self.save_hyperparameters()\n",
    "\n",
    "        # Initial convolutions skipping the center pixel\n",
    "        self.conv_vstack = VerticalStackConvolution(c_in, c_hidden, mask_center=True)\n",
    "        self.conv_hstack = HorizontalStackConvolution(c_in, c_hidden, mask_center=True)\n",
    "        # Convolution block of PixelCNN. We use dilation instead of downscaling\n",
    "        self.conv_layers = nn.ModuleList([\n",
    "            GatedMaskedConv(c_hidden),\n",
    "            GatedMaskedConv(c_hidden, dilation=2),\n",
    "            GatedMaskedConv(c_hidden),\n",
    "            GatedMaskedConv(c_hidden, dilation=4),\n",
    "            GatedMaskedConv(c_hidden),\n",
    "            GatedMaskedConv(c_hidden, dilation=2),\n",
    "            GatedMaskedConv(c_hidden)\n",
    "        ])\n",
    "        # Output classification convolution (1x1)\n",
    "        self.conv_out = nn.Conv2d(c_hidden, c_in * 256, kernel_size=1, padding=0)\n",
    "\n",
    "        # self.example_input_array = train_set[0][0][None]\n",
    "\n",
    "    def forward(self, x):\n",
    "        \"\"\"\n",
    "        Forward image through model and return logits for each pixel.\n",
    "        Inputs:\n",
    "            x - Image tensor with integer values between 0 and 255.\n",
    "        \"\"\"\n",
    "        # Scale input from 0 to 255 back to -1 to 1\n",
    "        x = (x.float() / 255.0) * 2 - 1\n",
    "\n",
    "        # Initial convolutions\n",
    "        v_stack = self.conv_vstack(x)\n",
    "        h_stack = self.conv_hstack(x)\n",
    "        # Gated Convolutions\n",
    "        for layer in self.conv_layers:\n",
    "            v_stack, h_stack = layer(v_stack, h_stack)\n",
    "        # 1x1 classification convolution\n",
    "        # Apply ELU before 1x1 convolution for non-linearity on residual connection\n",
    "        out = self.conv_out(F.elu(h_stack))\n",
    "\n",
    "        # Output dimensions: [Batch, Classes, Channels, Height, Width]\n",
    "        out = out.reshape(out.shape[0], 256, out.shape[1]//256, out.shape[2], out.shape[3])\n",
    "        return out\n",
    "\n",
    "    def calc_likelihood(self, x):\n",
    "        # Forward pass with bpd likelihood calculation\n",
    "        pred = self.forward(x)\n",
    "        nll = F.cross_entropy(pred, x, reduction='none')\n",
    "        bpd = nll.mean(dim=[1,2,3]) * np.log2(np.exp(1))\n",
    "        return bpd.mean()\n",
    "\n",
    "    @torch.no_grad()\n",
    "    def sample(self, img_shape, img=None):\n",
    "        \"\"\"\n",
    "        Sampling function for the autoregressive model.\n",
    "        Inputs:\n",
    "            img_shape - Shape of the image to generate (B,C,H,W)\n",
    "            img (optional) - If given, this tensor will be used as\n",
    "                             a starting image. The pixels to fill\n",
    "                             should be -1 in the input tensor.\n",
    "        \"\"\"\n",
    "        # Create empty image\n",
    "        if img is None:\n",
    "            img = torch.zeros(img_shape, dtype=torch.long).to(device) - 1\n",
    "        # Generation loop\n",
    "        for h in tqdm(range(img_shape[2]), leave=False):\n",
    "            for w in range(img_shape[3]):\n",
    "                for c in range(img_shape[1]):\n",
    "                    # Skip if not to be filled (-1)\n",
    "                    if (img[:,c,h,w] != -1).all().item():\n",
    "                        continue\n",
    "                    # For efficiency, we only have to input the upper part of the image\n",
    "                    # as all other parts will be skipped by the masked convolutions anyways\n",
    "                    pred = self.forward(img[:,:,:h+1,:])\n",
    "                    probs = F.softmax(pred[:,:,c,h,w], dim=-1)\n",
    "                    img[:,c,h,w] = torch.multinomial(probs, num_samples=1).squeeze(dim=-1)\n",
    "        return img\n",
    "\n",
    "    # def configure_optimizers(self):\n",
    "    #     optimizer = optim.Adam(self.parameters(), lr=1e-3)\n",
    "    #     scheduler = optim.lr_scheduler.StepLR(optimizer, 1, gamma=0.99)\n",
    "    #     return [optimizer], [scheduler]\n",
    "\n",
    "    # def training_step(self, batch, batch_idx):\n",
    "    #     loss = self.calc_likelihood(batch[0])\n",
    "    #     self.log('train_bpd', loss)\n",
    "    #     return loss\n",
    "\n",
    "    # def validation_step(self, batch, batch_idx):\n",
    "    #     loss = self.calc_likelihood(batch[0])\n",
    "    #     self.log('val_bpd', loss)\n",
    "\n",
    "    # def test_step(self, batch, batch_idx):\n",
    "    #     loss = self.calc_likelihood(batch[0])\n",
    "    #     self.log('test_bpd', loss)"
   ]
  },
  {
   "cell_type": "markdown",
   "metadata": {},
   "source": [
    "Training"
   ]
  },
  {
   "cell_type": "code",
   "execution_count": 66,
   "metadata": {},
   "outputs": [
    {
     "data": {
      "application/vnd.jupyter.widget-view+json": {
       "model_id": "cf48d901b0514995bcb2454f6e32caca",
       "version_major": 2,
       "version_minor": 0
      },
      "text/plain": [
       "epoch 0 training :   0%|          | 0/390 [00:00<?, ?it/s]"
      ]
     },
     "metadata": {},
     "output_type": "display_data"
    },
    {
     "data": {
      "application/vnd.jupyter.widget-view+json": {
       "model_id": "39937de55f4742e7ab645744a6e74bfa",
       "version_major": 2,
       "version_minor": 0
      },
      "text/plain": [
       "epoch 0 validating :   0%|          | 0/79 [00:00<?, ?it/s]"
      ]
     },
     "metadata": {},
     "output_type": "display_data"
    },
    {
     "ename": "NameError",
     "evalue": "name 'eepoch' is not defined",
     "output_type": "error",
     "traceback": [
      "\u001b[1;31m---------------------------------------------------------------------------\u001b[0m",
      "\u001b[1;31mNameError\u001b[0m                                 Traceback (most recent call last)",
      "Cell \u001b[1;32mIn[66], line 52\u001b[0m\n\u001b[0;32m     46\u001b[0m \u001b[38;5;28;01mif\u001b[39;00m(epoch\u001b[38;5;241m%\u001b[39m\u001b[38;5;241m5\u001b[39m\u001b[38;5;241m==\u001b[39m\u001b[38;5;241m0\u001b[39m):\n\u001b[0;32m     47\u001b[0m     checkpoint \u001b[38;5;241m=\u001b[39m {\n\u001b[0;32m     48\u001b[0m         \u001b[38;5;124m\"\u001b[39m\u001b[38;5;124mnet\u001b[39m\u001b[38;5;124m\"\u001b[39m: PixelCNN_model\u001b[38;5;241m.\u001b[39mstate_dict(),\n\u001b[0;32m     49\u001b[0m         \u001b[38;5;124m\"\u001b[39m\u001b[38;5;124moptimizer\u001b[39m\u001b[38;5;124m\"\u001b[39m:optimizer\u001b[38;5;241m.\u001b[39mstate_dict(),\n\u001b[0;32m     50\u001b[0m         \u001b[38;5;124m\"\u001b[39m\u001b[38;5;124mepoch\u001b[39m\u001b[38;5;124m\"\u001b[39m: epoch\n\u001b[0;32m     51\u001b[0m     }\n\u001b[1;32m---> 52\u001b[0m torch\u001b[38;5;241m.\u001b[39msave(checkpoint, os\u001b[38;5;241m.\u001b[39mpath\u001b[38;5;241m.\u001b[39mjoin(os\u001b[38;5;241m.\u001b[39mpath\u001b[38;5;241m.\u001b[39mjoin(CHECKPOINT_PATH, Train_tag), \u001b[38;5;124m\"\u001b[39m\u001b[38;5;124mepoch_\u001b[39m\u001b[38;5;132;01m{}\u001b[39;00m\u001b[38;5;124m.ckpt\u001b[39m\u001b[38;5;124m\"\u001b[39m\u001b[38;5;241m.\u001b[39mformat(\u001b[43meepoch\u001b[49m)))\n",
      "\u001b[1;31mNameError\u001b[0m: name 'eepoch' is not defined"
     ]
    }
   ],
   "source": [
    "PixelCNN_model = PixelCNN(c_in=1, c_hidden=64)\n",
    "PixelCNN_model = PixelCNN_model.to(device)\n",
    "optimizer = optim.Adam(PixelCNN_model.parameters(), lr=Learning_rate)\n",
    "start_epoch = -1\n",
    "loss_fn = \n",
    "\n",
    "\n",
    "if not os.path.isdir(os.path.join(LOG_PATH, Train_tag)):\n",
    "        os.mkdir(os.path.join(LOG_PATH, Train_tag))\n",
    "writer = SummaryWriter(os.path.join(LOG_PATH, Train_tag))\n",
    "if not os.path.isdir(os.path.join(CHECKPOINT_PATH, Train_tag)):\n",
    "        os.mkdir(os.path.join(CHECKPOINT_PATH, Train_tag))\n",
    "\n",
    "# if resume from previous checkpoints\n",
    "if Resume_from_checkpoint:\n",
    "    path_checkpoint = CHECKPOINT_PATH \n",
    "    checkpoint = torch.load(path_checkpoint)  \n",
    "    PixelCNN_model.load_state_dict(checkpoint['net']) \n",
    "    # optimizer.load_state_dict(checkpoint['optimizer']) \n",
    "    start_epoch = checkpoint['epoch']\n",
    "\n",
    "epoch = start_epoch\n",
    "train_iter = 0\n",
    "validation_iter = 0\n",
    "for epoch_iter in range(Max_epoch):\n",
    "    epoch = epoch + 1\n",
    "    \n",
    "    # train\n",
    "    for imgs, _ in tqdm(train_loader, desc=\"epoch {} training \".format(epoch), leave=False):\n",
    "        outputs = PixelCNN_model(imgs)\n",
    "        loss = (F.cross_entropy(outputs, imgs, reduction='none')).mean()\n",
    "        writer.add_scalar(\"training_loss\", loss.item(), train_iter)\n",
    "        train_iter += 1 \n",
    "        \n",
    "        optimizer.zero_grad()\n",
    "        loss.backward()\n",
    "        optimizer.step()\n",
    "    \n",
    "    # validation\n",
    "    with torch.no_grad():\n",
    "        for imgs, _ in tqdm(val_loader, desc=\"epoch {} validating \".format(epoch), leave=False):\n",
    "            outputs = PixelCNN_model(imgs)\n",
    "            loss = (F.cross_entropy(outputs, imgs, reduction='none')).mean()\n",
    "            writer.add_scalar(\"validation_loss\", loss.item(), validation_iter) \n",
    "            validation_iter += 1\n",
    "    \n",
    "    # save checkpoint every 5 epochs\n",
    "    if(epoch%5==0):\n",
    "        checkpoint = {\n",
    "            \"net\": PixelCNN_model.state_dict(),\n",
    "            \"optimizer\":optimizer.state_dict(),\n",
    "            \"epoch\": epoch \n",
    "        }\n",
    "    torch.save(checkpoint, os.path.join(os.path.join(CHECKPOINT_PATH, Train_tag), \"epoch_{}.ckpt\".format(epoch)))\n",
    "        \n",
    "    "
   ]
  }
 ],
 "metadata": {
  "kernelspec": {
   "display_name": "Python 3",
   "language": "python",
   "name": "python3"
  },
  "language_info": {
   "codemirror_mode": {
    "name": "ipython",
    "version": 3
   },
   "file_extension": ".py",
   "mimetype": "text/x-python",
   "name": "python",
   "nbconvert_exporter": "python",
   "pygments_lexer": "ipython3",
   "version": "3.10.7"
  }
 },
 "nbformat": 4,
 "nbformat_minor": 2
}
