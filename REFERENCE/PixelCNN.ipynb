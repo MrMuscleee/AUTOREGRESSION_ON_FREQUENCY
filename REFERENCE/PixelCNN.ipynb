{
 "cells": [
  {
   "cell_type": "code",
   "execution_count": 1,
   "metadata": {},
   "outputs": [
    {
     "name": "stderr",
     "output_type": "stream",
     "text": [
      "C:\\Users\\lenovo\\AppData\\Local\\Temp\\ipykernel_1636\\960354683.py:11: DeprecationWarning: `set_matplotlib_formats` is deprecated since IPython 7.23, directly use `matplotlib_inline.backend_inline.set_matplotlib_formats()`\n",
      "  set_matplotlib_formats('svg', 'pdf') # For export\n",
      "Seed set to 42\n"
     ]
    },
    {
     "name": "stdout",
     "output_type": "stream",
     "text": [
      "Using device cpu\n"
     ]
    }
   ],
   "source": [
    "## Standard libraries\n",
    "import os\n",
    "import math\n",
    "import numpy as np\n",
    "\n",
    "## Imports for plotting\n",
    "import matplotlib.pyplot as plt\n",
    "plt.set_cmap('cividis')\n",
    "%matplotlib inline\n",
    "from IPython.display import set_matplotlib_formats\n",
    "set_matplotlib_formats('svg', 'pdf') # For export\n",
    "from matplotlib.colors import to_rgb\n",
    "import seaborn as sns\n",
    "\n",
    "## Progress bar\n",
    "from tqdm.notebook import tqdm\n",
    "\n",
    "## PyTorch\n",
    "import torch\n",
    "import torch.nn as nn\n",
    "import torch.nn.functional as F\n",
    "import torch.utils.data as data\n",
    "import torch.optim as optim\n",
    "# Torchvision\n",
    "import torchvision\n",
    "from torchvision.datasets import MNIST\n",
    "from torchvision import transforms\n",
    "# PyTorch Lightning\n",
    "import pytorch_lightning as pl\n",
    "from pytorch_lightning.callbacks import LearningRateMonitor, ModelCheckpoint\n",
    "\n",
    "# Path to the folder where the datasets are/should be downloaded (e.g. MNIST)\n",
    "DATASET_PATH = \"../data\"\n",
    "# Path to the folder where the pretrained models are saved\n",
    "CHECKPOINT_PATH = \"../saved_models/tutorial12\"\n",
    "\n",
    "# Setting the seed\n",
    "pl.seed_everything(42)\n",
    "\n",
    "# Ensure that all operations are deterministic on GPU (if used) for reproducibility\n",
    "torch.backends.cudnn.deterministic = True\n",
    "torch.backends.cudnn.benchmark = False\n",
    "\n",
    "# Fetching the device that will be used throughout this notebook\n",
    "device = torch.device(\"cpu\") if not torch.cuda.is_available() else torch.device(\"cuda:0\")\n",
    "print(\"Using device\", device)"
   ]
  },
  {
   "cell_type": "code",
   "execution_count": 2,
   "metadata": {},
   "outputs": [],
   "source": [
    "import urllib.request\n",
    "from urllib.error import HTTPError\n",
    "# Github URL where saved models are stored\n",
    "base_url = \"https://raw.githubusercontent.com/phlippe/saved_models/main/tutorial12/\"\n",
    "# Files to download\n",
    "pretrained_files = [\"PixelCNN.ckpt\"]\n",
    "# Create checkpoint path if it doesn't exist yet\n",
    "os.makedirs(CHECKPOINT_PATH, exist_ok=True)\n",
    "\n",
    "# For each file, check whether it already exists. If not, try downloading it.\n",
    "for file_name in pretrained_files:\n",
    "    file_path = os.path.join(CHECKPOINT_PATH, file_name)\n",
    "    if not os.path.isfile(file_path):\n",
    "        file_url = base_url + file_name\n",
    "        print(f\"Downloading {file_url}...\")\n",
    "        try:\n",
    "            urllib.request.urlretrieve(file_url, file_path)\n",
    "        except HTTPError as e:\n",
    "            print(\"Something went wrong. Please try to download the file from the GDrive folder, or contact the author with the full output including the following error:\\n\", e)"
   ]
  },
  {
   "cell_type": "code",
   "execution_count": 3,
   "metadata": {},
   "outputs": [
    {
     "name": "stderr",
     "output_type": "stream",
     "text": [
      "Seed set to 42\n"
     ]
    }
   ],
   "source": [
    "# Convert images from 0-1 to 0-255 (integers). We use the long datatype as we will use the images as labels as well\n",
    "def discretize(sample):\n",
    "    return (sample * 255).to(torch.long)\n",
    "\n",
    "# Transformations applied on each image => only make them a tensor\n",
    "transform = transforms.Compose([transforms.ToTensor(),\n",
    "                                discretize])\n",
    "\n",
    "# Loading the training dataset. We need to split it into a training and validation part\n",
    "train_dataset = MNIST(root=DATASET_PATH, train=True, transform=transform, download=True)\n",
    "pl.seed_everything(42)\n",
    "train_set, val_set = torch.utils.data.random_split(train_dataset, [50000, 10000])\n",
    "\n",
    "# Loading the test set\n",
    "test_set = MNIST(root=DATASET_PATH, train=False, transform=transform, download=True)\n",
    "\n",
    "# We define a set of data loaders that we can use for various purposes later.\n",
    "train_loader = data.DataLoader(train_set, batch_size=128, shuffle=True, drop_last=True, pin_memory=True, num_workers=4)\n",
    "val_loader = data.DataLoader(val_set, batch_size=128, shuffle=False, drop_last=False, num_workers=4)\n",
    "test_loader = data.DataLoader(test_set, batch_size=128, shuffle=False, drop_last=False, num_workers=4)"
   ]
  },
  {
   "cell_type": "code",
   "execution_count": 4,
   "metadata": {},
   "outputs": [
    {
     "data": {
      "application/pdf": "[encoded data removed]",
      "image/svg+xml": [
       "<?xml version=\"1.0\" encoding=\"utf-8\" standalone=\"no\"?>\n",
       "<!DOCTYPE svg PUBLIC \"-//W3C//DTD SVG 1.1//EN\"\n",
       "  \"http://www.w3.org/Graphics/SVG/1.1/DTD/svg11.dtd\">\n",
       "<svg xmlns:xlink=\"http://www.w3.org/1999/xlink\" width=\"341.674839pt\" height=\"180.72pt\" viewBox=\"0 0 341.674839 180.72\" xmlns=\"http://www.w3.org/2000/svg\" version=\"1.1\">\n",
       " <metadata>\n",
       "  <rdf:RDF xmlns:dc=\"http://purl.org/dc/elements/1.1/\" xmlns:cc=\"http://creativecommons.org/ns#\" xmlns:rdf=\"http://www.w3.org/1999/02/22-rdf-syntax-ns#\">\n",
       "   <cc:Work>\n",
       "    <dc:type rdf:resource=\"http://purl.org/dc/dcmitype/StillImage\"/>\n",
       "    <dc:date>2024-03-01T17:58:32.685564</dc:date>\n",
       "    <dc:format>image/svg+xml</dc:format>\n",
       "    <dc:creator>\n",
       "     <cc:Agent>\n",
       "      <dc:title>Matplotlib v3.6.0, https://matplotlib.org/</dc:title>\n",
       "     </cc:Agent>\n",
       "    </dc:creator>\n",
       "   </cc:Work>\n",
       "  </rdf:RDF>\n",
       " </metadata>\n",
       " <defs>\n",
       "  <style type=\"text/css\">*{stroke-linejoin: round; stroke-linecap: butt}</style>\n",
       " </defs>\n",
       " <g id=\"figure_1\">\n",
       "  <g id=\"patch_1\">\n",
       "   <path d=\"M 0 180.72 \n",
       "L 341.674839 180.72 \n",
       "L 341.674839 0 \n",
       "L 0 0 \n",
       "z\n",
       "\" style=\"fill: #ffffff\"/>\n",
       "  </g>\n",
       "  <g id=\"axes_1\">\n",
       "   <g clip-path=\"url(#p2e9df31173)\">\n",
       "    <image xlink:href=\"data:image/png;base64,\n",
       "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\" id=\"image2ba53043bc\" transform=\"scale(1 -1) translate(0 -166.32)\" x=\"7.2\" y=\"-7.2\" width=\"327.6\" height=\"166.32\"/>\n",
       "   </g>\n",
       "  </g>\n",
       " </g>\n",
       " <defs>\n",
       "  <clipPath id=\"p2e9df31173\">\n",
       "   <rect x=\"7.2\" y=\"7.2\" width=\"327.274839\" height=\"166.32\"/>\n",
       "  </clipPath>\n",
       " </defs>\n",
       "</svg>\n"
      ],
      "text/plain": [
       "<Figure size 600x300 with 1 Axes>"
      ]
     },
     "metadata": {},
     "output_type": "display_data"
    }
   ],
   "source": [
    "def show_imgs(imgs):\n",
    "    num_imgs = imgs.shape[0] if isinstance(imgs, torch.Tensor) else len(imgs)\n",
    "    nrow = min(num_imgs, 4)\n",
    "    ncol = int(math.ceil(num_imgs/nrow))\n",
    "    imgs = torchvision.utils.make_grid(imgs, nrow=nrow, pad_value=128)\n",
    "    imgs = imgs.clamp(min=0, max=255)\n",
    "    np_imgs = imgs.cpu().numpy()\n",
    "    plt.figure(figsize=(1.5*nrow, 1.5*ncol))\n",
    "    plt.imshow(np.transpose(np_imgs, (1,2,0)), interpolation='nearest')\n",
    "    plt.axis('off')\n",
    "    plt.show()\n",
    "    plt.close()\n",
    "\n",
    "show_imgs([train_set[i][0] for i in range(8)])"
   ]
  },
  {
   "cell_type": "code",
   "execution_count": 5,
   "metadata": {},
   "outputs": [],
   "source": [
    "class MaskedConvolution(nn.Module):\n",
    "\n",
    "    def __init__(self, c_in, c_out, mask, **kwargs):\n",
    "        \"\"\"\n",
    "        Implements a convolution with mask applied on its weights.\n",
    "        Inputs:\n",
    "            c_in - Number of input channels\n",
    "            c_out - Number of output channels\n",
    "            mask - Tensor of shape [kernel_size_H, kernel_size_W] with 0s where\n",
    "                   the convolution should be masked, and 1s otherwise.\n",
    "            kwargs - Additional arguments for the convolution\n",
    "        \"\"\"\n",
    "        super().__init__()\n",
    "        # For simplicity: calculate padding automatically\n",
    "        kernel_size = (mask.shape[0], mask.shape[1])\n",
    "        dilation = 1 if \"dilation\" not in kwargs else kwargs[\"dilation\"]\n",
    "        padding = tuple([dilation*(kernel_size[i]-1)//2 for i in range(2)])\n",
    "        # Actual convolution\n",
    "        self.conv = nn.Conv2d(c_in, c_out, kernel_size, padding=padding, **kwargs)\n",
    "\n",
    "        # Mask as buffer => it is no parameter but still a tensor of the module\n",
    "        # (must be moved with the devices)\n",
    "        self.register_buffer('mask', mask[None,None])\n",
    "\n",
    "    def forward(self, x):\n",
    "        self.conv.weight.data *= self.mask # Ensures zero's at masked positions\n",
    "        return self.conv(x)"
   ]
  },
  {
   "cell_type": "code",
   "execution_count": 6,
   "metadata": {},
   "outputs": [],
   "source": [
    "class VerticalStackConvolution(MaskedConvolution):\n",
    "\n",
    "    def __init__(self, c_in, c_out, kernel_size=3, mask_center=False, **kwargs):\n",
    "        # Mask out all pixels below. For efficiency, we could also reduce the kernel\n",
    "        # size in height, but for simplicity, we stick with masking here.\n",
    "        mask = torch.ones(kernel_size, kernel_size)\n",
    "        mask[kernel_size//2+1:,:] = 0\n",
    "\n",
    "        # For the very first convolution, we will also mask the center row\n",
    "        if mask_center:\n",
    "            mask[kernel_size//2,:] = 0\n",
    "\n",
    "        super().__init__(c_in, c_out, mask, **kwargs)\n",
    "\n",
    "class HorizontalStackConvolution(MaskedConvolution):\n",
    "\n",
    "    def __init__(self, c_in, c_out, kernel_size=3, mask_center=False, **kwargs):\n",
    "        # Mask out all pixels on the left. Note that our kernel has a size of 1\n",
    "        # in height because we only look at the pixel in the same row.\n",
    "        mask = torch.ones(1,kernel_size)\n",
    "        mask[0,kernel_size//2+1:] = 0\n",
    "\n",
    "        # For the very first convolution, we will also mask the center pixel\n",
    "        if mask_center:\n",
    "            mask[0,kernel_size//2] = 0\n",
    "\n",
    "        super().__init__(c_in, c_out, mask, **kwargs)"
   ]
  },
  {
   "cell_type": "code",
   "execution_count": 7,
   "metadata": {},
   "outputs": [],
   "source": [
    "class GatedMaskedConv(nn.Module):\n",
    "\n",
    "    def __init__(self, c_in, **kwargs):\n",
    "        \"\"\"\n",
    "        Gated Convolution block implemented the computation graph shown above.\n",
    "        \"\"\"\n",
    "        super().__init__()\n",
    "        self.conv_vert = VerticalStackConvolution(c_in, c_out=2*c_in, **kwargs)\n",
    "        self.conv_horiz = HorizontalStackConvolution(c_in, c_out=2*c_in, **kwargs)\n",
    "        self.conv_vert_to_horiz = nn.Conv2d(2*c_in, 2*c_in, kernel_size=1, padding=0)\n",
    "        self.conv_horiz_1x1 = nn.Conv2d(c_in, c_in, kernel_size=1, padding=0)\n",
    "\n",
    "    def forward(self, v_stack, h_stack):\n",
    "        # Vertical stack (left)\n",
    "        v_stack_feat = self.conv_vert(v_stack)\n",
    "        v_val, v_gate = v_stack_feat.chunk(2, dim=1)\n",
    "        v_stack_out = torch.tanh(v_val) * torch.sigmoid(v_gate)\n",
    "\n",
    "        # Horizontal stack (right)\n",
    "        h_stack_feat = self.conv_horiz(h_stack)\n",
    "        h_stack_feat = h_stack_feat + self.conv_vert_to_horiz(v_stack_feat)\n",
    "        h_val, h_gate = h_stack_feat.chunk(2, dim=1)\n",
    "        h_stack_feat = torch.tanh(h_val) * torch.sigmoid(h_gate)\n",
    "        h_stack_out = self.conv_horiz_1x1(h_stack_feat)\n",
    "        h_stack_out = h_stack_out + h_stack\n",
    "\n",
    "        return v_stack_out, h_stack_out"
   ]
  },
  {
   "cell_type": "code",
   "execution_count": 8,
   "metadata": {},
   "outputs": [],
   "source": [
    "class PixelCNN(pl.LightningModule):\n",
    "\n",
    "    def __init__(self, c_in, c_hidden):\n",
    "        super().__init__()\n",
    "        self.save_hyperparameters()\n",
    "\n",
    "        # Initial convolutions skipping the center pixel\n",
    "        self.conv_vstack = VerticalStackConvolution(c_in, c_hidden, mask_center=True)\n",
    "        self.conv_hstack = HorizontalStackConvolution(c_in, c_hidden, mask_center=True)\n",
    "        # Convolution block of PixelCNN. We use dilation instead of downscaling\n",
    "        self.conv_layers = nn.ModuleList([\n",
    "            GatedMaskedConv(c_hidden),\n",
    "            GatedMaskedConv(c_hidden, dilation=2),\n",
    "            GatedMaskedConv(c_hidden),\n",
    "            GatedMaskedConv(c_hidden, dilation=4),\n",
    "            GatedMaskedConv(c_hidden),\n",
    "            GatedMaskedConv(c_hidden, dilation=2),\n",
    "            GatedMaskedConv(c_hidden)\n",
    "        ])\n",
    "        # Output classification convolution (1x1)\n",
    "        self.conv_out = nn.Conv2d(c_hidden, c_in * 256, kernel_size=1, padding=0)\n",
    "\n",
    "        self.example_input_array = train_set[0][0][None]\n",
    "\n",
    "    def forward(self, x):\n",
    "        \"\"\"\n",
    "        Forward image through model and return logits for each pixel.\n",
    "        Inputs:\n",
    "            x - Image tensor with integer values between 0 and 255.\n",
    "        \"\"\"\n",
    "        # Scale input from 0 to 255 back to -1 to 1\n",
    "        x = (x.float() / 255.0) * 2 - 1\n",
    "\n",
    "        # Initial convolutions\n",
    "        v_stack = self.conv_vstack(x)\n",
    "        h_stack = self.conv_hstack(x)\n",
    "        # Gated Convolutions\n",
    "        for layer in self.conv_layers:\n",
    "            v_stack, h_stack = layer(v_stack, h_stack)\n",
    "        # 1x1 classification convolution\n",
    "        # Apply ELU before 1x1 convolution for non-linearity on residual connection\n",
    "        out = self.conv_out(F.elu(h_stack))\n",
    "\n",
    "        # Output dimensions: [Batch, Classes, Channels, Height, Width]\n",
    "        out = out.reshape(out.shape[0], 256, out.shape[1]//256, out.shape[2], out.shape[3])\n",
    "        return out\n",
    "\n",
    "    def calc_likelihood(self, x):\n",
    "        # Forward pass with bpd likelihood calculation\n",
    "        pred = self.forward(x)\n",
    "        nll = F.cross_entropy(pred, x, reduction='none')\n",
    "        bpd = nll.mean(dim=[1,2,3]) * np.log2(np.exp(1))\n",
    "        return bpd.mean()\n",
    "\n",
    "    @torch.no_grad()\n",
    "    def sample(self, img_shape, img=None):\n",
    "        \"\"\"\n",
    "        Sampling function for the autoregressive model.\n",
    "        Inputs:\n",
    "            img_shape - Shape of the image to generate (B,C,H,W)\n",
    "            img (optional) - If given, this tensor will be used as\n",
    "                             a starting image. The pixels to fill\n",
    "                             should be -1 in the input tensor.\n",
    "        \"\"\"\n",
    "        # Create empty image\n",
    "        if img is None:\n",
    "            img = torch.zeros(img_shape, dtype=torch.long).to(device) - 1\n",
    "        # Generation loop\n",
    "        for h in tqdm(range(img_shape[2]), leave=False):\n",
    "            for w in range(img_shape[3]):\n",
    "                for c in range(img_shape[1]):\n",
    "                    # Skip if not to be filled (-1)\n",
    "                    if (img[:,c,h,w] != -1).all().item():\n",
    "                        continue\n",
    "                    # For efficiency, we only have to input the upper part of the image\n",
    "                    # as all other parts will be skipped by the masked convolutions anyways\n",
    "                    pred = self.forward(img[:,:,:h+1,:])\n",
    "                    probs = F.softmax(pred[:,:,c,h,w], dim=-1)\n",
    "                    img[:,c,h,w] = torch.multinomial(probs, num_samples=1).squeeze(dim=-1)\n",
    "        return img\n",
    "\n",
    "    def configure_optimizers(self):\n",
    "        optimizer = optim.Adam(self.parameters(), lr=1e-3)\n",
    "        scheduler = optim.lr_scheduler.StepLR(optimizer, 1, gamma=0.99)\n",
    "        return [optimizer], [scheduler]\n",
    "\n",
    "    def training_step(self, batch, batch_idx):\n",
    "        loss = self.calc_likelihood(batch[0])\n",
    "        self.log('train_bpd', loss)\n",
    "        return loss\n",
    "\n",
    "    def validation_step(self, batch, batch_idx):\n",
    "        loss = self.calc_likelihood(batch[0])\n",
    "        self.log('val_bpd', loss)\n",
    "\n",
    "    def test_step(self, batch, batch_idx):\n",
    "        loss = self.calc_likelihood(batch[0])\n",
    "        self.log('test_bpd', loss)"
   ]
  },
  {
   "cell_type": "code",
   "execution_count": 9,
   "metadata": {},
   "outputs": [],
   "source": [
    "def train_model(**kwargs):\n",
    "    # Create a PyTorch Lightning trainer with the generation callback\n",
    "    trainer = pl.Trainer(default_root_dir=os.path.join(CHECKPOINT_PATH, \"PixelCNN\"),\n",
    "                         accelerator=\"gpu\" if str(device).startswith(\"cuda\") else \"cpu\",\n",
    "                         devices=1,\n",
    "                         max_epochs=150,\n",
    "                         callbacks=[ModelCheckpoint(save_weights_only=True, mode=\"min\", monitor=\"val_bpd\"),\n",
    "                                    LearningRateMonitor(\"epoch\")])\n",
    "    result = None\n",
    "    # Check whether pretrained model exists. If yes, load it and skip training\n",
    "    pretrained_filename = os.path.join(CHECKPOINT_PATH, \"PixelCNN.ckpt\")\n",
    "    if os.path.isfile(pretrained_filename):\n",
    "        print(\"Found pretrained model, loading...\")\n",
    "        model = PixelCNN.load_from_checkpoint(pretrained_filename)\n",
    "        ckpt = torch.load(pretrained_filename, map_location=device)\n",
    "        result = ckpt.get(\"result\", None)\n",
    "    else:\n",
    "        model = PixelCNN(**kwargs)\n",
    "        trainer.fit(model, train_loader, val_loader)\n",
    "    model = model.to(device)\n",
    "\n",
    "    if result is None:\n",
    "        # Test best model on validation and test set\n",
    "        val_result = trainer.test(model, val_loader, verbose=False)\n",
    "        test_result = trainer.test(model, test_loader, verbose=False)\n",
    "        result = {\"test\": test_result, \"val\": val_result}\n",
    "    return model, result"
   ]
  },
  {
   "cell_type": "code",
   "execution_count": 10,
   "metadata": {},
   "outputs": [
    {
     "name": "stderr",
     "output_type": "stream",
     "text": [
      "GPU available: False, used: False\n",
      "TPU available: False, using: 0 TPU cores\n",
      "IPU available: False, using: 0 IPUs\n",
      "HPU available: False, using: 0 HPUs\n",
      "d:\\coding\\python\\lib\\site-packages\\pytorch_lightning\\trainer\\connectors\\logger_connector\\logger_connector.py:67: Starting from v1.9.0, `tensorboardX` has been removed as a dependency of the `pytorch_lightning` package, due to potential conflicts with other packages in the ML ecosystem. For this reason, `logger=True` will use `CSVLogger` as the default logger, unless the `tensorboard` or `tensorboardX` packages are found. Please `pip install lightning[extra]` or one of them to enable TensorBoard support by default\n"
     ]
    },
    {
     "name": "stdout",
     "output_type": "stream",
     "text": [
      "Found pretrained model, loading...\n"
     ]
    },
    {
     "name": "stderr",
     "output_type": "stream",
     "text": [
      "Lightning automatically upgraded your loaded checkpoint from v0.9.0 to v2.1.0. To apply the upgrade to your files permanently, run `python -m pytorch_lightning.utilities.upgrade_checkpoint d:\\ut_courses\\RESEARCH\\Qiang_Liu\\Xingchao\\Lehao_Project\\saved_models\\tutorial12\\PixelCNN.ckpt`\n"
     ]
    },
    {
     "name": "stdout",
     "output_type": "stream",
     "text": [
      "Test bits per dimension: 0.808bpd\n"
     ]
    }
   ],
   "source": [
    "model, result = train_model(c_in=1, c_hidden=64)\n",
    "test_res = result[\"test\"][0]\n",
    "print(\"Test bits per dimension: %4.3fbpd\" % (test_res[\"test_loss\"] if \"test_loss\" in test_res else test_res[\"test_bpd\"]))"
   ]
  },
  {
   "cell_type": "code",
   "execution_count": 11,
   "metadata": {},
   "outputs": [
    {
     "name": "stdout",
     "output_type": "stream",
     "text": [
      "Number of parameters: 852,160\n"
     ]
    }
   ],
   "source": [
    "num_params = sum([np.prod(param.shape) for param in model.parameters()])\n",
    "print(\"Number of parameters: {:,}\".format(num_params))"
   ]
  },
  {
   "cell_type": "code",
   "execution_count": 12,
   "metadata": {},
   "outputs": [
    {
     "name": "stderr",
     "output_type": "stream",
     "text": [
      "Seed set to 1\n"
     ]
    },
    {
     "data": {
      "application/vnd.jupyter.widget-view+json": {
       "model_id": "3dc2da347d664156a7444964b89d7683",
       "version_major": 2,
       "version_minor": 0
      },
      "text/plain": [
       "  0%|          | 0/28 [00:00<?, ?it/s]"
      ]
     },
     "metadata": {},
     "output_type": "display_data"
    },
    {
     "data": {
      "application/pdf": "[encoded data removed]",
      "image/svg+xml": [
       "<?xml version=\"1.0\" encoding=\"utf-8\" standalone=\"no\"?>\n",
       "<!DOCTYPE svg PUBLIC \"-//W3C//DTD SVG 1.1//EN\"\n",
       "  \"http://www.w3.org/Graphics/SVG/1.1/DTD/svg11.dtd\">\n",
       "<svg xmlns:xlink=\"http://www.w3.org/1999/xlink\" width=\"347.04pt\" height=\"347.04pt\" viewBox=\"0 0 347.04 347.04\" xmlns=\"http://www.w3.org/2000/svg\" version=\"1.1\">\n",
       " <metadata>\n",
       "  <rdf:RDF xmlns:dc=\"http://purl.org/dc/elements/1.1/\" xmlns:cc=\"http://creativecommons.org/ns#\" xmlns:rdf=\"http://www.w3.org/1999/02/22-rdf-syntax-ns#\">\n",
       "   <cc:Work>\n",
       "    <dc:type rdf:resource=\"http://purl.org/dc/dcmitype/StillImage\"/>\n",
       "    <dc:date>2024-03-01T17:59:15.737150</dc:date>\n",
       "    <dc:format>image/svg+xml</dc:format>\n",
       "    <dc:creator>\n",
       "     <cc:Agent>\n",
       "      <dc:title>Matplotlib v3.6.0, https://matplotlib.org/</dc:title>\n",
       "     </cc:Agent>\n",
       "    </dc:creator>\n",
       "   </cc:Work>\n",
       "  </rdf:RDF>\n",
       " </metadata>\n",
       " <defs>\n",
       "  <style type=\"text/css\">*{stroke-linejoin: round; stroke-linecap: butt}</style>\n",
       " </defs>\n",
       " <g id=\"figure_1\">\n",
       "  <g id=\"patch_1\">\n",
       "   <path d=\"M 0 347.04 \n",
       "L 347.04 347.04 \n",
       "L 347.04 -0 \n",
       "L 0 -0 \n",
       "z\n",
       "\" style=\"fill: #ffffff\"/>\n",
       "  </g>\n",
       "  <g id=\"axes_1\">\n",
       "   <g clip-path=\"url(#p7706626585)\">\n",
       "    <image xlink:href=\"data:image/png;base64,\n",
       "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\" id=\"image0e583f2e84\" transform=\"scale(1 -1) translate(0 -333.36)\" x=\"7.2\" y=\"-6.48\" width=\"332.64\" height=\"333.36\"/>\n",
       "   </g>\n",
       "  </g>\n",
       " </g>\n",
       " <defs>\n",
       "  <clipPath id=\"p7706626585\">\n",
       "   <rect x=\"7.2\" y=\"7.2\" width=\"332.64\" height=\"332.64\"/>\n",
       "  </clipPath>\n",
       " </defs>\n",
       "</svg>\n"
      ],
      "text/plain": [
       "<Figure size 600x600 with 1 Axes>"
      ]
     },
     "metadata": {},
     "output_type": "display_data"
    }
   ],
   "source": [
    "pl.seed_everything(1)\n",
    "samples = model.sample(img_shape=(16,1,28,28))\n",
    "show_imgs(samples.cpu())"
   ]
  },
  {
   "cell_type": "code",
   "execution_count": 13,
   "metadata": {},
   "outputs": [
    {
     "name": "stderr",
     "output_type": "stream",
     "text": [
      "Seed set to 1\n"
     ]
    },
    {
     "data": {
      "application/vnd.jupyter.widget-view+json": {
       "model_id": "15c153302d894ab5bbf57e29d5b02661",
       "version_major": 2,
       "version_minor": 0
      },
      "text/plain": [
       "  0%|          | 0/64 [00:00<?, ?it/s]"
      ]
     },
     "metadata": {},
     "output_type": "display_data"
    },
    {
     "data": {
      "application/pdf": "[encoded data removed]",
      "image/svg+xml": [
       "<?xml version=\"1.0\" encoding=\"utf-8\" standalone=\"no\"?>\n",
       "<!DOCTYPE svg PUBLIC \"-//W3C//DTD SVG 1.1//EN\"\n",
       "  \"http://www.w3.org/Graphics/SVG/1.1/DTD/svg11.dtd\">\n",
       "<svg xmlns:xlink=\"http://www.w3.org/1999/xlink\" width=\"344.557612pt\" height=\"180.72pt\" viewBox=\"0 0 344.557612 180.72\" xmlns=\"http://www.w3.org/2000/svg\" version=\"1.1\">\n",
       " <metadata>\n",
       "  <rdf:RDF xmlns:dc=\"http://purl.org/dc/elements/1.1/\" xmlns:cc=\"http://creativecommons.org/ns#\" xmlns:rdf=\"http://www.w3.org/1999/02/22-rdf-syntax-ns#\">\n",
       "   <cc:Work>\n",
       "    <dc:type rdf:resource=\"http://purl.org/dc/dcmitype/StillImage\"/>\n",
       "    <dc:date>2024-03-01T18:07:22.643091</dc:date>\n",
       "    <dc:format>image/svg+xml</dc:format>\n",
       "    <dc:creator>\n",
       "     <cc:Agent>\n",
       "      <dc:title>Matplotlib v3.6.0, https://matplotlib.org/</dc:title>\n",
       "     </cc:Agent>\n",
       "    </dc:creator>\n",
       "   </cc:Work>\n",
       "  </rdf:RDF>\n",
       " </metadata>\n",
       " <defs>\n",
       "  <style type=\"text/css\">*{stroke-linejoin: round; stroke-linecap: butt}</style>\n",
       " </defs>\n",
       " <g id=\"figure_1\">\n",
       "  <g id=\"patch_1\">\n",
       "   <path d=\"M 0 180.72 \n",
       "L 344.557612 180.72 \n",
       "L 344.557612 0 \n",
       "L 0 0 \n",
       "z\n",
       "\" style=\"fill: #ffffff\"/>\n",
       "  </g>\n",
       "  <g id=\"axes_1\">\n",
       "   <g clip-path=\"url(#p94e71fe8ff)\">\n",
       "    <image xlink:href=\"data:image/png;base64,\n",
       "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\" id=\"image2ce0c419bd\" transform=\"scale(1 -1) translate(0 -166.32)\" x=\"7.2\" y=\"-7.2\" width=\"330.48\" height=\"166.32\"/>\n",
       "   </g>\n",
       "  </g>\n",
       " </g>\n",
       " <defs>\n",
       "  <clipPath id=\"p94e71fe8ff\">\n",
       "   <rect x=\"7.2\" y=\"7.2\" width=\"330.157612\" height=\"166.32\"/>\n",
       "  </clipPath>\n",
       " </defs>\n",
       "</svg>\n"
      ],
      "text/plain": [
       "<Figure size 600x300 with 1 Axes>"
      ]
     },
     "metadata": {},
     "output_type": "display_data"
    }
   ],
   "source": [
    "pl.seed_everything(1)\n",
    "samples = model.sample(img_shape=(8,1,64,64))\n",
    "show_imgs(samples.cpu())"
   ]
  },
  {
   "cell_type": "code",
   "execution_count": 14,
   "metadata": {},
   "outputs": [],
   "source": [
    "def autocomplete_image(img):\n",
    "    # Remove lower half of the image\n",
    "    img_init = img.clone()\n",
    "    img_init[:,10:,:] = -1\n",
    "    print(\"Original image and input image to sampling:\")\n",
    "    show_imgs([img,img_init])\n",
    "    # Generate 12 example completions\n",
    "    img_init = img_init.unsqueeze(dim=0).expand(12,-1,-1,-1).to(device)\n",
    "    pl.seed_everything(1)\n",
    "    img_generated = model.sample(img_init.shape, img_init)\n",
    "    print(\"Autocompletion samples:\")\n",
    "    show_imgs(img_generated)"
   ]
  }
 ],
 "metadata": {
  "kernelspec": {
   "display_name": "Python 3",
   "language": "python",
   "name": "python3"
  },
  "language_info": {
   "codemirror_mode": {
    "name": "ipython",
    "version": 3
   },
   "file_extension": ".py",
   "mimetype": "text/x-python",
   "name": "python",
   "nbconvert_exporter": "python",
   "pygments_lexer": "ipython3",
   "version": "3.10.7"
  }
 },
 "nbformat": 4,
 "nbformat_minor": 2
}
